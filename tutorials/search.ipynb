{
 "cells": [
  {
   "cell_type": "markdown",
   "metadata": {},
   "source": [
    "<img align=\"right\" src=\"images/tf.png\"/>\n",
    "<img align=\"right\" src=\"images/etcbc.png\"/>\n",
    "<img align=\"right\" src=\"images/logo.png\"/>\n",
    "\n",
    "# Search Introduction\n",
    "\n",
    "*Search* in Text-Fabric is a template based way of looking for structural patterns in your dataset.\n",
    "\n",
    "Within Text-Fabric we have the unique possibility to combine the ease of formulating search templates for\n",
    "complicated syntactical patterns with the power of programmatically processing the results.\n",
    "\n",
    "This notebook will show you how to get up and running.\n",
    "\n",
    "## Easy command\n",
    "\n",
    "Search is as simple as saying (just an example)\n",
    "\n",
    "```python\n",
    "results = A.search(template)\n",
    "A.show(results)\n",
    "```\n",
    "\n",
    "See all ins and outs in the\n",
    "[search template docs](https://annotation.github.io/text-fabric/tf/about/searchusage.html)."
   ]
  },
  {
   "cell_type": "markdown",
   "metadata": {},
   "source": [
    "# Incantation\n",
    "\n",
    "The ins and outs of installing Text-Fabric, getting the corpus, and initializing a notebook are\n",
    "explained in the [start tutorial](start.ipynb)."
   ]
  },
  {
   "cell_type": "code",
   "execution_count": 1,
   "metadata": {},
   "outputs": [],
   "source": [
    "%load_ext autoreload\n",
    "%autoreload 2"
   ]
  },
  {
   "cell_type": "code",
   "execution_count": 2,
   "metadata": {
    "ExecuteTime": {
     "end_time": "2018-05-24T10:06:39.818664Z",
     "start_time": "2018-05-24T10:06:39.796588Z"
    }
   },
   "outputs": [],
   "source": [
    "import unicodedata\n",
    "from tf.app import use"
   ]
  },
  {
   "cell_type": "code",
   "execution_count": 3,
   "metadata": {},
   "outputs": [
    {
     "data": {
      "text/html": [
       "<b title=\"local github\">TF-app:</b> <span title=\"repo clone offline under ~/github\">~/github/annotation/app-athenaeus/code</span>"
      ],
      "text/plain": [
       "<IPython.core.display.HTML object>"
      ]
     },
     "metadata": {},
     "output_type": "display_data"
    },
    {
     "data": {
      "text/html": [
       "<b title=\"local github\">data:</b> <span title=\"repo clone offline under ~/github\">~/github/pthu/athenaeus/Athenaeus/Deipnosophistae/tf/1.1</span>"
      ],
      "text/plain": [
       "<IPython.core.display.HTML object>"
      ]
     },
     "metadata": {},
     "output_type": "display_data"
    },
    {
     "data": {
      "text/html": [
       "<b>Text-Fabric:</b><a target=\"_blank\" href=\"https://annotation.github.io/text-fabric/cheatsheet.html\" title=\"text-fabric-api\">Text-Fabric API 8.3.0</a>, <a target=\"_blank\" href=\"https://github.com/annotation/app-athenaeus\" title=\"athenaeus TF-app\">app-athenaeus v3</a>, <a target=\"_blank\" href=\"https://annotation.github.io/text-fabric/about/searchusage.html\" title=\"Search Templates Introduction and Reference\">Search Reference</a><br><b>Data:</b> <a target=\"_blank\" href=\"https://github.com/pthu/athenaeus/blob/master/docs/home.md\" title=\"provenance of The Deipnosophistae by Athenaeus\">ATHENAEUS</a>, <a target=\"_blank\" href=\"https://annotation.github.io/text-fabric/writing/greek.html\" title=\"How TF features represent text\">Character table</a>, <a target=\"_blank\" href=\"https://github.com/pthu/athenaeus/blob/master/docs/features/home.md\" title=\"ATHENAEUS feature documentation\">Feature docs</a><br><b>Features:</b><br><details><summary><b>The Deipnosophistae by Athenaeus</b></summary><a target=\"_blank\" href=\"https://github.com/pthu/athenaeus/blob/master/docs/features/_book.md\" title=\"~/github/pthu/athenaeus/Athenaeus/Deipnosophistae/tf/1.1/_book.tf\">_book</a><br><a target=\"_blank\" href=\"https://github.com/pthu/athenaeus/blob/master/docs/features/_sentence.md\" title=\"~/github/pthu/athenaeus/Athenaeus/Deipnosophistae/tf/1.1/_sentence.tf\">_sentence</a><br><a target=\"_blank\" href=\"https://github.com/pthu/athenaeus/blob/master/docs/features/add.md\" title=\"~/github/pthu/athenaeus/Athenaeus/Deipnosophistae/tf/1.1/add.tf\">add</a><br><a target=\"_blank\" href=\"https://github.com/pthu/athenaeus/blob/master/docs/features/beta_plain.md\" title=\"~/github/pthu/athenaeus/Athenaeus/Deipnosophistae/tf/1.1/beta_plain.tf\">beta_plain</a><br><a target=\"_blank\" href=\"https://github.com/pthu/athenaeus/blob/master/docs/features/bibl.md\" title=\"~/github/pthu/athenaeus/Athenaeus/Deipnosophistae/tf/1.1/bibl.tf\">bibl</a><br><a target=\"_blank\" href=\"https://github.com/pthu/athenaeus/blob/master/docs/features/book.md\" title=\"~/github/pthu/athenaeus/Athenaeus/Deipnosophistae/tf/1.1/book.tf\">book</a><br><a target=\"_blank\" href=\"https://github.com/pthu/athenaeus/blob/master/docs/features/chapter.md\" title=\"~/github/pthu/athenaeus/Athenaeus/Deipnosophistae/tf/1.1/chapter.tf\">chapter</a><br><a target=\"_blank\" href=\"https://github.com/pthu/athenaeus/blob/master/docs/features/cit.md\" title=\"~/github/pthu/athenaeus/Athenaeus/Deipnosophistae/tf/1.1/cit.tf\">cit</a><br><a target=\"_blank\" href=\"https://github.com/pthu/athenaeus/blob/master/docs/features/head.md\" title=\"~/github/pthu/athenaeus/Athenaeus/Deipnosophistae/tf/1.1/head.tf\">head</a><br><a target=\"_blank\" href=\"https://github.com/pthu/athenaeus/blob/master/docs/features/hi.md\" title=\"~/github/pthu/athenaeus/Athenaeus/Deipnosophistae/tf/1.1/hi.tf\">hi</a><br><a target=\"_blank\" href=\"https://github.com/pthu/athenaeus/blob/master/docs/features/l.md\" title=\"~/github/pthu/athenaeus/Athenaeus/Deipnosophistae/tf/1.1/l.tf\">l</a><br><a target=\"_blank\" href=\"https://github.com/pthu/athenaeus/blob/master/docs/features/lemma.md\" title=\"~/github/pthu/athenaeus/Athenaeus/Deipnosophistae/tf/1.1/lemma.tf\">lemma</a><br><a target=\"_blank\" href=\"https://github.com/pthu/athenaeus/blob/master/docs/features/main.md\" title=\"~/github/pthu/athenaeus/Athenaeus/Deipnosophistae/tf/1.1/main.tf\">main</a><br><a target=\"_blank\" href=\"https://github.com/pthu/athenaeus/blob/master/docs/features/norm.md\" title=\"~/github/pthu/athenaeus/Athenaeus/Deipnosophistae/tf/1.1/norm.tf\">norm</a><br><a target=\"_blank\" href=\"https://github.com/pthu/athenaeus/blob/master/docs/features/num.md\" title=\"~/github/pthu/athenaeus/Athenaeus/Deipnosophistae/tf/1.1/num.tf\">num</a><br><a target=\"_blank\" href=\"https://github.com/pthu/athenaeus/blob/master/docs/features/orig.md\" title=\"~/github/pthu/athenaeus/Athenaeus/Deipnosophistae/tf/1.1/orig.tf\">orig</a><br><a target=\"_blank\" href=\"https://github.com/pthu/athenaeus/blob/master/docs/features/otype.md\" title=\"~/github/pthu/athenaeus/Athenaeus/Deipnosophistae/tf/1.1/otype.tf\">otype</a><br><a target=\"_blank\" href=\"https://github.com/pthu/athenaeus/blob/master/docs/features/p.md\" title=\"~/github/pthu/athenaeus/Athenaeus/Deipnosophistae/tf/1.1/p.tf\">p</a><br><a target=\"_blank\" href=\"https://github.com/pthu/athenaeus/blob/master/docs/features/pb.md\" title=\"~/github/pthu/athenaeus/Athenaeus/Deipnosophistae/tf/1.1/pb.tf\">pb</a><br><a target=\"_blank\" href=\"https://github.com/pthu/athenaeus/blob/master/docs/features/plain.md\" title=\"~/github/pthu/athenaeus/Athenaeus/Deipnosophistae/tf/1.1/plain.tf\">plain</a><br><a target=\"_blank\" href=\"https://github.com/pthu/athenaeus/blob/master/docs/features/post.md\" title=\"~/github/pthu/athenaeus/Athenaeus/Deipnosophistae/tf/1.1/post.tf\">post</a><br><a target=\"_blank\" href=\"https://github.com/pthu/athenaeus/blob/master/docs/features/pre.md\" title=\"~/github/pthu/athenaeus/Athenaeus/Deipnosophistae/tf/1.1/pre.tf\">pre</a><br><a target=\"_blank\" href=\"https://github.com/pthu/athenaeus/blob/master/docs/features/quote.md\" title=\"~/github/pthu/athenaeus/Athenaeus/Deipnosophistae/tf/1.1/quote.tf\">quote</a><br><b><i><a target=\"_blank\" href=\"https://github.com/pthu/athenaeus/blob/master/docs/features/oslots.md\" title=\"~/github/pthu/athenaeus/Athenaeus/Deipnosophistae/tf/1.1/oslots.tf\">oslots</a></i></b><br></details>"
      ],
      "text/plain": [
       "<IPython.core.display.HTML object>"
      ]
     },
     "metadata": {},
     "output_type": "display_data"
    },
    {
     "data": {
      "text/html": [
       "<style>tr.tf, td.tf, th.tf { text-align: left ! important;}@font-face {\n",
       "  font-family: \"Ezra SIL\";\n",
       "  src: local('Ezra SIL'), local('EzraSIL'),\n",
       "    url('/server/static/fonts/SILEOT.woff') format('woff'),\n",
       "    url('https://github.com/annotation/text-fabric/blob/master/tf/server/static/fonts/SILEOT.woff?raw=true') format('woff');\n",
       "}\n",
       "\n",
       "@font-face {\n",
       "  font-family: \"SBL Hebrew\";\n",
       "  src: local('SBL Hebrew'), local('SBLHebrew'),\n",
       "    url('/server/static/fonts/SBL_Hbrw.woff') format('woff'),\n",
       "    url('https://github.com/annotation/text-fabric/blob/master/tf/server/static/fonts/SBL_Hbrw.woff?raw=true') format('woff');\n",
       "}\n",
       "\n",
       "@font-face {\n",
       "  font-family: \"Estrangelo Edessa\";\n",
       "  src: local('Estrangelo Edessa'), local('EstrangeloEdessa');\n",
       "    url('/server/static/fonts/SyrCOMEdessa.woff') format('woff'),\n",
       "    url('https://github.com/annotation/text-fabric/blob/master/tf/server/static/fonts/SyrCOMEdessa.woff?raw=true') format('woff');\n",
       "}\n",
       "\n",
       "@font-face {\n",
       "  font-family: AmiriQuran;\n",
       "  font-style: normal;\n",
       "  font-weight: 400;\n",
       "  src: local('Amiri Quran'), local('AmiriQuran'),\n",
       "    url('/server/static/fonts/AmiriQuran.woff') format('woff'),\n",
       "    url('https://github.com/annotation/text-fabric/blob/master/tf/server/static/fonts/AmiriQuran.woff?raw=true') format('woff');\n",
       "}\n",
       "\n",
       "@font-face {\n",
       "  font-family: AmiriQuranColored;\n",
       "  font-style: normal;\n",
       "  font-weight: 400;\n",
       "  src: local('Amiri Quran Colored'), local('AmiriQuranColored'),\n",
       "    url('/server/static/fonts/AmiriQuranColored.woff') format('woff'),\n",
       "    url('https://github.com/annotation/text-fabric/blob/master/tf/server/static/fonts/AmiriQuranColored.woff?raw=true') format('woff');\n",
       "}\n",
       "\n",
       "@font-face {\n",
       "  font-family: \"Santakku\";\n",
       "  src: local('Santakku'),\n",
       "    url('/server/static/fonts/Santakku.woff') format('woff'),\n",
       "    url('https://github.com/annotation/text-fabric/blob/master/tf/server/static/fonts/Santakku.woff?raw=true') format('woff');\n",
       "}\n",
       "\n",
       "@font-face {\n",
       "  font-family: \"SantakkuM\";\n",
       "  src: local('SantakkuM'),\n",
       "    url('/server/static/fonts/SantakkuM.woff') format('woff'),\n",
       "    url('https://github.com/annotation/text-fabric/blob/master/tf/server/static/fonts/SantakkuM.woff?raw=true') format('woff');\n",
       "}\n",
       "/* bypassing some classical notebook settings */\n",
       "div#notebook {\n",
       "  line-height: unset;\n",
       "}\n",
       "/* neutral text */\n",
       ".txtn,.txtn a:visited,.txtn a:link {\n",
       "    font-family: sans-serif;\n",
       "    font-size: medium;\n",
       "    direction: ltr;\n",
       "    text-decoration: none;\n",
       "    color: var(--text-color);\n",
       "}\n",
       "/* transcription text */\n",
       ".txtt,.txtt a:visited,.txtt a:link {\n",
       "    font-family: monospace;\n",
       "    font-size: medium;\n",
       "    direction: ltr;\n",
       "    text-decoration: none;\n",
       "    color: var(--text-color);\n",
       "}\n",
       "/* source text */\n",
       ".txto,.txto a:visited,.txto a:link {\n",
       "    font-family: serif;\n",
       "    font-size: medium;\n",
       "    direction: ltr;\n",
       "    text-decoration: none;\n",
       "    color: var(--text-color);\n",
       "}\n",
       "/* phonetic text */\n",
       ".txtp,.txtp a:visited,.txtp a:link {\n",
       "    font-family: Gentium, sans-serif;\n",
       "    font-size: large;\n",
       "    direction: ltr;\n",
       "    text-decoration: none;\n",
       "    color: var(--text-color);\n",
       "}\n",
       "/* original script text */\n",
       ".txtu,.txtu a:visited,.txtu a:link {\n",
       "    font-family: Gentium, sans-serif;\n",
       "    font-size: large;\n",
       "    text-decoration: none;\n",
       "    color: var(--text-color);\n",
       "}\n",
       "/* hebrew */\n",
       ".txtu.hbo,.lex.hbo {\n",
       "    font-family: \"Ezra SIL\", \"SBL Hebrew\", sans-serif;\n",
       "    font-size: x-large;\n",
       "    direction: rtl ! important;\n",
       "    unicode-bidi: embed;\n",
       "}\n",
       "/* syriac */\n",
       ".txtu.syc,.lex.syc {\n",
       "    font-family: \"Estrangelo Edessa\", sans-serif;\n",
       "    font-size: large;\n",
       "    direction: rtl ! important;\n",
       "    unicode-bidi: embed;\n",
       "}\n",
       "/* neo aramaic */\n",
       ".txtu.cld,.lex.cld {\n",
       "    font-family: \"CharisSIL-R\", sans-serif;\n",
       "    font-size: medium;\n",
       "    direction: ltr ! important;\n",
       "    unicode-bidi: embed;\n",
       "}\n",
       "/* standard arabic */\n",
       ".txtu.ara,.lex.ara {\n",
       "    font-family: \"AmiriQuran\", sans-serif;\n",
       "    font-size: large;\n",
       "    direction: rtl ! important;\n",
       "    unicode-bidi: embed;\n",
       "}\n",
       "/* cuneiform */\n",
       ".txtu.akk,.lex.akk {\n",
       "    font-family: Santakku, sans-serif;\n",
       "    font-size: x-large;\n",
       "    direction: ltr ! important;\n",
       "    unicode-bidi: embed;\n",
       "}\n",
       "/* greek */\n",
       ".txtu.grc,.lex.grc a:link {\n",
       "    font-family: Gentium, sans-serif;\n",
       "    font-size: medium;\n",
       "    direction: ltr ! important;\n",
       "    unicode-bidi: embed;\n",
       "}\n",
       "a:hover {\n",
       "    text-decoration: underline | important;\n",
       "    color: #0000ff | important;\n",
       "}\n",
       ".ltr {\n",
       "    direction: ltr ! important;\n",
       "}\n",
       ".rtl {\n",
       "    direction: rtl ! important;\n",
       "}\n",
       "span.plain {\n",
       "    display: inline-block;\n",
       "    white-space: pre-wrap;\n",
       "    text-align: start;\n",
       "}\n",
       ".gr,.gl {\n",
       "    white-space: pre-wrap;\n",
       "    border-color: var(--border-color-gap);\n",
       "    border-width: var(--border-width-gap);\n",
       "    border-top-style: none;\n",
       "    border-bottom-style: none;\n",
       "}\n",
       ".gr {\n",
       "    border-right-style: solid;\n",
       "    border-left-style: dashed;\n",
       "}\n",
       ".gl {\n",
       "    border-right-style: dashed;\n",
       "    border-left-style: solid;\n",
       "}\n",
       ".features {\n",
       "    font-family: monospace;\n",
       "    font-size: medium;\n",
       "    font-weight: bold;\n",
       "    color: var(--features);\n",
       "    display: flex;\n",
       "    flex-flow: column nowrap;\n",
       "    justify-content: flex-start;\n",
       "    align-items: flex-start;\n",
       "    align-content: flex-start;\n",
       "    padding: 0.1rem;\n",
       "    margin: 0.1rem;\n",
       "    direction: ltr;\n",
       "    border: var(--meta-width) solid var(--meta-color);\n",
       "    border-radius: var(--meta-width);\n",
       "}\n",
       ".features div,.features span {\n",
       "    padding: 0;\n",
       "    margin: -0.1rem 0;\n",
       "}\n",
       ".features .f {\n",
       "    font-family: sans-serif;\n",
       "    font-size: small;\n",
       "    font-weight: normal;\n",
       "    color: #5555bb;\n",
       "}\n",
       ".features .xft {\n",
       "  color: #000000;\n",
       "  background-color: #eeeeee;\n",
       "  font-size: medium;\n",
       "  margin: 0.1rem 0rem;\n",
       "}\n",
       ".features .xft .f {\n",
       "  color: #000000;\n",
       "  background-color: #eeeeee;\n",
       "  font-size: small;\n",
       "  font-weight: normal;\n",
       "}\n",
       ".section {\n",
       "    font-family: sans-serif;\n",
       "    font-size: small;\n",
       "    font-weight: bold;\n",
       "    color: var(--section);\n",
       "}\n",
       ".structure {\n",
       "    font-family: sans-serif;\n",
       "    font-size: small;\n",
       "    font-weight: bold;\n",
       "    color: var(--structure);\n",
       "}\n",
       ".comments {\n",
       "    display: flex;\n",
       "    justify-content: flex-start;\n",
       "    align-items: flex-start;\n",
       "    align-content: flex-start;\n",
       "    flex-flow: column nowrap;\n",
       "}\n",
       ".nd {\n",
       "    font-family: sans-serif;\n",
       "    font-size: small;\n",
       "    color: var(--node);\n",
       "    vertical-align: super;\n",
       "}\n",
       ".lex {\n",
       "  color: var(--lex-color);;\n",
       "}\n",
       ".children,.children.ltr {\n",
       "    display: flex;\n",
       "    border: 0;\n",
       "    background-color: #ffffff;\n",
       "    justify-content: flex-start;\n",
       "    align-items: flex-start;\n",
       "    align-content: flex-start;\n",
       "}\n",
       ".children.stretch {\n",
       "    align-items: stretch;\n",
       "}\n",
       ".children.hor {\n",
       "    flex-flow: row nowrap;\n",
       "}\n",
       ".children.hor.wrap {\n",
       "    flex-flow: row wrap;\n",
       "}\n",
       ".children.ver {\n",
       "    flex-flow: column nowrap;\n",
       "}\n",
       ".children.ver.wrap {\n",
       "    flex-flow: column wrap;\n",
       "}\n",
       ".contnr {\n",
       "    width: fit-content;\n",
       "    display: flex;\n",
       "    justify-content: flex-start;\n",
       "    align-items: flex-start;\n",
       "    align-content: flex-start;\n",
       "    flex-flow: column nowrap;\n",
       "    background: #ffffff none repeat scroll 0 0;\n",
       "    padding:  0.5rem 0.1rem 0.1rem 0.1rem;\n",
       "    margin: 0.8rem 0.1rem 0.1rem 0.1rem;\n",
       "    border-style: solid;\n",
       "    font-size: small;\n",
       "}\n",
       ".contnr.trm {\n",
       "    background-attachment: local;\n",
       "}\n",
       ".contnr.cnul {\n",
       "    padding:  0;\n",
       "    margin: 0;\n",
       "    border-style: solid;\n",
       "    font-size: xx-small;\n",
       "}\n",
       ".contnr.cnul,.lbl.cnul {\n",
       "    border-color: var(--border-color-nul);\n",
       "    border-width: var(--border-width-nul);\n",
       "    border-radius: var(--border-width-nul);\n",
       "}\n",
       ".contnr.c0,.lbl.c0 {\n",
       "    border-color: var(--border-color0);\n",
       "    border-width: var(--border-width0);\n",
       "    border-radius: var(--border-width0);\n",
       "}\n",
       ".contnr.c1,.lbl.c1 {\n",
       "    border-color: var(--border-color1);\n",
       "    border-width: var(--border-width1);\n",
       "    border-radius: var(--border-width1);\n",
       "}\n",
       ".contnr.c2,.lbl.c2 {\n",
       "    border-color: var(--border-color2);\n",
       "    border-width: var(--border-width2);\n",
       "    border-radius: var(--border-width2);\n",
       "}\n",
       ".contnr.c3,.lbl.c3 {\n",
       "    border-color: var(--border-color3);\n",
       "    border-width: var(--border-width3);\n",
       "    border-radius: var(--border-width3);\n",
       "}\n",
       ".contnr.c4,.lbl.c4 {\n",
       "    border-color: var(--border-color4);\n",
       "    border-width: var(--border-width4);\n",
       "    border-radius: var(--border-width4);\n",
       "}\n",
       ".plain.l,.contnr.l,.contnr.l>.lbl {\n",
       "    border-left-style: dotted\n",
       "}\n",
       ".plain.r,.contnr.r,.contnr.r>.lbl {\n",
       "    border-right-style: dotted\n",
       "}\n",
       ".plain.lno,.contnr.lno,.contnr.lno>.lbl {\n",
       "    border-left-style: none\n",
       "}\n",
       ".plain.rno,.contnr.rno,.contnr.rno>.lbl {\n",
       "    border-right-style: none\n",
       "}\n",
       ".plain.l {\n",
       "    padding-left: 0.2rem;\n",
       "    margin-left: 0.1rem;\n",
       "    border-width: var(--border-width-plain);\n",
       "}\n",
       ".plain.r {\n",
       "    padding-right: 0.2rem;\n",
       "    margin-right: 0.1rem;\n",
       "    border-width: var(--border-width-plain);\n",
       "}\n",
       ".lbl {\n",
       "    font-family: monospace;\n",
       "    margin-top: -1.2rem;\n",
       "    margin-left: 1rem;\n",
       "    background: #ffffff none repeat scroll 0 0;\n",
       "    padding: 0 0.3rem;\n",
       "    border-style: solid;\n",
       "    display: block;\n",
       "    color: var(--label)\n",
       "}\n",
       ".lbl.trm {\n",
       "    background-attachment: local;\n",
       "    margin-top: 0.1rem;\n",
       "    margin-left: 0.1rem;\n",
       "    padding: 0.1rem 0.1rem;\n",
       "    border-style: none;\n",
       "}\n",
       ".lbl.cnul {\n",
       "    font-size: xx-small;\n",
       "}\n",
       ".lbl.c0 {\n",
       "    font-size: small;\n",
       "}\n",
       ".lbl.c1 {\n",
       "    font-size: small;\n",
       "}\n",
       ".lbl.c2 {\n",
       "    font-size: medium;\n",
       "}\n",
       ".lbl.c3 {\n",
       "    font-size: medium;\n",
       "}\n",
       ".lbl.c4 {\n",
       "    font-size: large;\n",
       "}\n",
       ".occs {\n",
       "    font-size: small;\n",
       "}\n",
       "\n",
       "/* PROVENANCE */\n",
       "\n",
       "div.prov {\n",
       "\tmargin: 2rem;\n",
       "\tpadding: 1rem;\n",
       "\tborder: 0.1rem solid var(--fog-rim);\n",
       "}\n",
       "div.pline {\n",
       "\tdisplay: flex;\n",
       "\tflex-flow: row nowrap;\n",
       "\tjustify-content: stretch;\n",
       "\talign-items: baseline;\n",
       "}\n",
       "div.p2line {\n",
       "\tmargin-left: 2em;\n",
       "\tdisplay: flex;\n",
       "\tflex-flow: row nowrap;\n",
       "\tjustify-content: stretch;\n",
       "\talign-items: baseline;\n",
       "}\n",
       "div.psline {\n",
       "\tdisplay: flex;\n",
       "\tflex-flow: row nowrap;\n",
       "\tjustify-content: stretch;\n",
       "\talign-items: baseline;\n",
       "\tbackground-color: var(--gold-mist-back);\n",
       "}\n",
       "div.pname {\n",
       "\tflex: 0 0 5rem;\n",
       "\tfont-weight: bold;\n",
       "}\n",
       "div.pval {\n",
       "    flex: 1 1 auto;\n",
       "}\n",
       "\n",
       ":root {\n",
       "\t--node:               hsla(120, 100%,  20%, 1.0  );\n",
       "\t--label:              hsla(  0, 100%,  20%, 1.0  );\n",
       "\t--section:            hsla(  0, 100%,  25%, 1.0  );\n",
       "\t--structure:          hsla(120, 100%,  25%, 1.0  );\n",
       "\t--features:           hsla(  0,   0%,  30%, 1.0  );\n",
       "  --text-color:         hsla( 60,  80%,  10%, 1.0  );\n",
       "  --lex-color:          hsla(220,  90%,  60%, 1.0  );\n",
       "  --meta-color:         hsla(  0,   0%,  90%, 0.7  );\n",
       "  --meta-width:         0.15rem;\n",
       "  --border-color-nul:   hsla(  0,   0%,  90%, 0.5  );\n",
       "  --border-color-gap:   hsla(  0,  50%,  70%, 1.0  );\n",
       "  --border-color0:      hsla(  0,   0%,  90%, 0.9  );\n",
       "  --border-color1:      hsla(  0,   0%,  80%, 0.9  );\n",
       "  --border-color2:      hsla(  0,   0%,  70%, 0.9  );\n",
       "  --border-color3:      hsla(  0,   0%,  80%, 0.8  );\n",
       "  --border-color4:      hsla(  0,   0%,  60%, 0.9  );\n",
       "  --border-width-nul:   0.1rem;\n",
       "  --border-width-gap:   0.1rem;\n",
       "  --border-width0:      0.1rem;\n",
       "  --border-width1:      0.15rem;\n",
       "  --border-width2:      0.2rem;\n",
       "  --border-width3:      0.3rem;\n",
       "  --border-width4:      0.25rem;\n",
       "  --border-width-plain: 0.1rem;\n",
       "}\n",
       ".hl {\n",
       "  background-color: var(--hl-strong);\n",
       "}\n",
       "span.hl {\n",
       "\tbackground-color: var(--hl-strong);\n",
       "\tborder-width: 0;\n",
       "\tborder-radius: 0.1rem;\n",
       "\tborder-style: solid;\n",
       "}\n",
       "div.contnr.hl,div.lbl.hl {\n",
       "  background-color: var(--hl-strong);\n",
       "}\n",
       "div.contnr.hl {\n",
       "  border-color: var(--hl-rim) ! important;\n",
       "\tborder-width: 0.2rem ! important;\n",
       "}\n",
       "\n",
       "span.hlbx {\n",
       "\tborder-color: var(--hl-rim);\n",
       "\tborder-width: 0.2rem;\n",
       "\tborder-style: solid;\n",
       "\tborder-radius: 0.3rem;\n",
       "  padding: 0.2rem;\n",
       "  margin: 0.2rem;\n",
       "}\n",
       "\n",
       "span.plain {\n",
       "  display: inline-block;\n",
       "  white-space: pre-wrap;\n",
       "}\n",
       "\n",
       ":root {\n",
       "\t--hl-strong:        hsla( 60, 100%,  70%, 0.9  );\n",
       "\t--hl-rim:           hsla( 55,  80%,  50%, 1.0  );\n",
       "}\n",
       "</style>"
      ],
      "text/plain": [
       "<IPython.core.display.HTML object>"
      ]
     },
     "metadata": {},
     "output_type": "display_data"
    },
    {
     "data": {
      "text/html": [
       "<div><b>Text-Fabric API:</b> names <a target=\"_blank\" href=\"https://annotation.github.io/text-fabric/cheatsheet.html\" title=\"doc\">N F E L T S C TF</a> directly usable</div><hr>"
      ],
      "text/plain": [
       "<IPython.core.display.HTML object>"
      ]
     },
     "metadata": {},
     "output_type": "display_data"
    }
   ],
   "source": [
    "A = use(\"athenaeus:clone\", checkout=\"clone\", hoist=globals())\n",
    "# A = use('athenaeus', hoist=globals())"
   ]
  },
  {
   "cell_type": "markdown",
   "metadata": {},
   "source": [
    "# Basic search command\n",
    "\n",
    "We start with the most simple form of issuing a query.\n",
    "Let's look for the words in book 3, chapter 4.\n",
    "\n",
    "All work involved in searching takes place under the hood."
   ]
  },
  {
   "cell_type": "code",
   "execution_count": 4,
   "metadata": {
    "ExecuteTime": {
     "end_time": "2018-05-24T07:46:55.998382Z",
     "start_time": "2018-05-24T07:46:55.137956Z"
    }
   },
   "outputs": [
    {
     "name": "stdout",
     "output_type": "stream",
     "text": [
      "  0.26s 66 results\n"
     ]
    },
    {
     "data": {
      "text/html": [
       "<table><tr class=\"tf\"><th class=\"tf\">n</th><th class=\"tf\">p</th><th class=\"tf\">word</th></tr>\n",
       "<tr class=\"tf\"><td class=\"tf\">1</td><td class=\"tf\"><span class=\"section ltr\">3 4:1811</span></td><td class=\"tf\"><div class=\" children\"><span class=\"plain outer   hl\" ><span class=\"txtu grc\">ΣΙΚΥΟΣ. </span></span></div></td></tr>\n",
       "<tr class=\"tf\"><td class=\"tf\">2</td><td class=\"tf\"><span class=\"section ltr\">3 4:1812</span></td><td class=\"tf\"><div class=\" children\"><span class=\"plain outer   hl\" ><span class=\"txtu grc\">παροιμία· </span></span></div></td></tr>\n",
       "<tr class=\"tf\"><td class=\"tf\">3</td><td class=\"tf\"><span class=\"section ltr\">3 4:1812</span></td><td class=\"tf\"><div class=\" children\"><span class=\"plain outer   hl\" ><span class=\"txtu grc\">σικυὸν </span></span></div></td></tr>\n",
       "<tr class=\"tf\"><td class=\"tf\">4</td><td class=\"tf\"><span class=\"section ltr\">3 4:1812</span></td><td class=\"tf\"><div class=\" children\"><span class=\"plain outer   hl\" ><span class=\"txtu grc\">τρώγουσα, </span></span></div></td></tr>\n",
       "<tr class=\"tf\"><td class=\"tf\">5</td><td class=\"tf\"><span class=\"section ltr\">3 4:1812</span></td><td class=\"tf\"><div class=\" children\"><span class=\"plain outer   hl\" ><span class=\"txtu grc\">γύναι, </span></span></div></td></tr>\n",
       "<tr class=\"tf\"><td class=\"tf\">6</td><td class=\"tf\"><span class=\"section ltr\">3 4:1812</span></td><td class=\"tf\"><div class=\" children\"><span class=\"plain outer   hl\" ><span class=\"txtu grc\">τὴν </span></span></div></td></tr>\n",
       "<tr class=\"tf\"><td class=\"tf\">7</td><td class=\"tf\"><span class=\"section ltr\">3 4:1812</span></td><td class=\"tf\"><div class=\" children\"><span class=\"plain outer   hl\" ><span class=\"txtu grc\">χλαῖναν </span></span></div></td></tr>\n",
       "<tr class=\"tf\"><td class=\"tf\">8</td><td class=\"tf\"><span class=\"section ltr\">3 4:1812</span></td><td class=\"tf\"><div class=\" children\"><span class=\"plain outer   hl\" ><span class=\"txtu grc\">ὕφαινε. </span></span></div></td></tr>\n",
       "<tr class=\"tf\"><td class=\"tf\">9</td><td class=\"tf\"><span class=\"section ltr\">3 4:1813</span></td><td class=\"tf\"><div class=\" children\"><span class=\"plain outer   hl\" ><span class=\"txtu grc\">Μάτρων </span></span></div></td></tr>\n",
       "<tr class=\"tf\"><td class=\"tf\">10</td><td class=\"tf\"><span class=\"section ltr\">3 4:1813</span></td><td class=\"tf\"><div class=\" children\"><span class=\"plain outer   hl\" ><span class=\"txtu grc\">ἐν </span></span></div></td></tr></table>"
      ],
      "text/plain": [
       "<IPython.core.display.HTML object>"
      ]
     },
     "metadata": {},
     "output_type": "display_data"
    }
   ],
   "source": [
    "query = \"\"\"\n",
    "book book=3\n",
    "  chapter chapter=4\n",
    "    word\n",
    "\"\"\"\n",
    "results = A.search(query)\n",
    "A.table(results, end=10, skipCols=\"1 2\")"
   ]
  },
  {
   "cell_type": "markdown",
   "metadata": {},
   "source": [
    "The hyperlinks take us all to the beginning of the book of Matthew.\n",
    "\n",
    "Note that we can choose start and/or end points in the results list."
   ]
  },
  {
   "cell_type": "code",
   "execution_count": 5,
   "metadata": {
    "ExecuteTime": {
     "end_time": "2018-05-24T07:47:03.299872Z",
     "start_time": "2018-05-24T07:47:03.261873Z"
    }
   },
   "outputs": [
    {
     "data": {
      "text/html": [
       "<table><tr class=\"tf\"><th class=\"tf\">n</th><th class=\"tf\">p</th><th class=\"tf\">word</th></tr>\n",
       "<tr class=\"tf\"><td class=\"tf\">8</td><td class=\"tf\"><span class=\"section ltr\">3 4:1812</span></td><td class=\"tf\"><div class=\" children\"><span class=\"plain outer   hl\" ><span class=\"txtu grc\">ὕφαινε. </span></span></div></td></tr>\n",
       "<tr class=\"tf\"><td class=\"tf\">9</td><td class=\"tf\"><span class=\"section ltr\">3 4:1813</span></td><td class=\"tf\"><div class=\" children\"><span class=\"plain outer   hl\" ><span class=\"txtu grc\">Μάτρων </span></span></div></td></tr>\n",
       "<tr class=\"tf\"><td class=\"tf\">10</td><td class=\"tf\"><span class=\"section ltr\">3 4:1813</span></td><td class=\"tf\"><div class=\" children\"><span class=\"plain outer   hl\" ><span class=\"txtu grc\">ἐν </span></span></div></td></tr>\n",
       "<tr class=\"tf\"><td class=\"tf\">11</td><td class=\"tf\"><span class=\"section ltr\">3 4:1813</span></td><td class=\"tf\"><div class=\" children\"><span class=\"plain outer   hl\" ><span class=\"txtu grc\">παρῳδίαις( )·  </span></span></div></td></tr>\n",
       "<tr class=\"tf\"><td class=\"tf\">12</td><td class=\"tf\"><span class=\"section ltr\">3 4:1813</span></td><td class=\"tf\"><div class=\" children\"><span class=\"plain outer   hl\" ><span class=\"txtu grc\">καὶ </span></span></div></td></tr>\n",
       "<tr class=\"tf\"><td class=\"tf\">13</td><td class=\"tf\"><span class=\"section ltr\">3 4:1813</span></td><td class=\"tf\"><div class=\" children\"><span class=\"plain outer   hl\" ><span class=\"txtu grc\">σικυὸν </span></span></div></td></tr></table>"
      ],
      "text/plain": [
       "<IPython.core.display.HTML object>"
      ]
     },
     "metadata": {},
     "output_type": "display_data"
    }
   ],
   "source": [
    "A.table(results, start=8, end=13, skipCols=\"1 2\")"
   ]
  },
  {
   "cell_type": "markdown",
   "metadata": {},
   "source": [
    "We can show the results more fully with `show()`."
   ]
  },
  {
   "cell_type": "code",
   "execution_count": 6,
   "metadata": {
    "ExecuteTime": {
     "end_time": "2018-05-24T07:47:06.875859Z",
     "start_time": "2018-05-24T07:47:06.757345Z"
    },
    "lines_to_next_cell": 2
   },
   "outputs": [
    {
     "data": {
      "text/html": [
       "<p><b>result</b> <i>8</i></p>"
      ],
      "text/plain": [
       "<IPython.core.display.HTML object>"
      ]
     },
     "metadata": {},
     "output_type": "display_data"
    },
    {
     "data": {
      "text/html": [
       "<span class=\"section ltr\">3 4:1812</span><div class=\" children\"><div class=\"contnr c3    \" ><div class=\"lbl c3  \" ><span class=\"nd\">_sentence</span></div><div class=\"children hor wrap \"><div class=\"contnr c0 trm   \" ><div class=\"lbl c0 trm \" ><span class=\"txtu grc\">παροιμία· </span></div></div><div class=\"contnr c0 trm   \" ><div class=\"lbl c0 trm \" ><span class=\"txtu grc\">σικυὸν </span></div></div><div class=\"contnr c0 trm   \" ><div class=\"lbl c0 trm \" ><span class=\"txtu grc\">τρώγουσα, </span></div></div><div class=\"contnr c0 trm   \" ><div class=\"lbl c0 trm \" ><span class=\"txtu grc\">γύναι, </span></div></div><div class=\"contnr c0 trm   \" ><div class=\"lbl c0 trm \" ><span class=\"txtu grc\">τὴν </span></div></div><div class=\"contnr c0 trm   \" ><div class=\"lbl c0 trm \" ><span class=\"txtu grc\">χλαῖναν </span></div></div><div class=\"contnr c0 trm   hl\" ><div class=\"lbl c0 trm hl\" ><span class=\"txtu grc\">ὕφαινε. </span></div></div></div></div></div>"
      ],
      "text/plain": [
       "<IPython.core.display.HTML object>"
      ]
     },
     "metadata": {},
     "output_type": "display_data"
    },
    {
     "data": {
      "text/html": [
       "<p><b>result</b> <i>9</i></p>"
      ],
      "text/plain": [
       "<IPython.core.display.HTML object>"
      ]
     },
     "metadata": {},
     "output_type": "display_data"
    },
    {
     "data": {
      "text/html": [
       "<span class=\"section ltr\">3 4:1813</span><div class=\" children\"><div class=\"contnr c3    \" ><div class=\"lbl c3  \" ><span class=\"nd\">_sentence</span></div><div class=\"children hor wrap \"><div class=\"contnr c0 trm   hl\" ><div class=\"lbl c0 trm hl\" ><span class=\"txtu grc\">Μάτρων </span></div></div><div class=\"contnr c0 trm   \" ><div class=\"lbl c0 trm \" ><span class=\"txtu grc\">ἐν </span></div></div><div class=\"contnr c0 trm   \" ><div class=\"lbl c0 trm \" ><span class=\"txtu grc\">παρῳδίαις( )·  </span></div></div><div class=\"contnr c0 trm   \" ><div class=\"lbl c0 trm \" ><span class=\"txtu grc\">καὶ </span></div></div><div class=\"contnr c0 trm   \" ><div class=\"lbl c0 trm \" ><span class=\"txtu grc\">σικυὸν </span></div></div><div class=\"contnr c0 trm   \" ><div class=\"lbl c0 trm \" ><span class=\"txtu grc\">εἶδον, </span></div></div><div class=\"contnr c0 trm   \" ><div class=\"lbl c0 trm \" ><span class=\"txtu grc\">γαίης </span></div></div><div class=\"contnr c0 trm   \" ><div class=\"lbl c0 trm \" ><span class=\"txtu grc\">ἐρικυδέος </span></div></div><div class=\"contnr c0 trm   \" ><div class=\"lbl c0 trm \" ><span class=\"txtu grc\">υἱόν, </span></div></div><div class=\"contnr c0 trm   \" ><div class=\"lbl c0 trm \" ><span class=\"txtu grc\">κείμενον </span></div></div><div class=\"contnr c0 trm   \" ><div class=\"lbl c0 trm \" ><span class=\"txtu grc\">ἐν </span></div></div><div class=\"contnr c0 trm   \" ><div class=\"lbl c0 trm \" ><span class=\"txtu grc\">λαχάνοις· </span></div></div><div class=\"contnr c0 trm   \" ><div class=\"lbl c0 trm \" ><span class=\"txtu grc\">ὃ </span></div></div><div class=\"contnr c0 trm   \" ><div class=\"lbl c0 trm \" ><span class=\"txtu grc\">δ’  </span></div></div><div class=\"contnr c0 trm   \" ><div class=\"lbl c0 trm \" ><span class=\"txtu grc\">ἐπ’  </span></div></div><div class=\"contnr c0 trm   \" ><div class=\"lbl c0 trm \" ><span class=\"txtu grc\">ἐννέα </span></div></div><div class=\"contnr c0 trm   \" ><div class=\"lbl c0 trm \" ><span class=\"txtu grc\">κεῖτο </span></div></div><div class=\"contnr c0 trm   \" ><div class=\"lbl c0 trm \" ><span class=\"txtu grc\">τραπέζας. </span></div></div></div></div></div>"
      ],
      "text/plain": [
       "<IPython.core.display.HTML object>"
      ]
     },
     "metadata": {},
     "output_type": "display_data"
    },
    {
     "data": {
      "text/html": [
       "<p><b>result</b> <i>10</i></p>"
      ],
      "text/plain": [
       "<IPython.core.display.HTML object>"
      ]
     },
     "metadata": {},
     "output_type": "display_data"
    },
    {
     "data": {
      "text/html": [
       "<span class=\"section ltr\">3 4:1813</span><div class=\" children\"><div class=\"contnr c3    \" ><div class=\"lbl c3  \" ><span class=\"nd\">_sentence</span></div><div class=\"children hor wrap \"><div class=\"contnr c0 trm   \" ><div class=\"lbl c0 trm \" ><span class=\"txtu grc\">Μάτρων </span></div></div><div class=\"contnr c0 trm   hl\" ><div class=\"lbl c0 trm hl\" ><span class=\"txtu grc\">ἐν </span></div></div><div class=\"contnr c0 trm   \" ><div class=\"lbl c0 trm \" ><span class=\"txtu grc\">παρῳδίαις( )·  </span></div></div><div class=\"contnr c0 trm   \" ><div class=\"lbl c0 trm \" ><span class=\"txtu grc\">καὶ </span></div></div><div class=\"contnr c0 trm   \" ><div class=\"lbl c0 trm \" ><span class=\"txtu grc\">σικυὸν </span></div></div><div class=\"contnr c0 trm   \" ><div class=\"lbl c0 trm \" ><span class=\"txtu grc\">εἶδον, </span></div></div><div class=\"contnr c0 trm   \" ><div class=\"lbl c0 trm \" ><span class=\"txtu grc\">γαίης </span></div></div><div class=\"contnr c0 trm   \" ><div class=\"lbl c0 trm \" ><span class=\"txtu grc\">ἐρικυδέος </span></div></div><div class=\"contnr c0 trm   \" ><div class=\"lbl c0 trm \" ><span class=\"txtu grc\">υἱόν, </span></div></div><div class=\"contnr c0 trm   \" ><div class=\"lbl c0 trm \" ><span class=\"txtu grc\">κείμενον </span></div></div><div class=\"contnr c0 trm   \" ><div class=\"lbl c0 trm \" ><span class=\"txtu grc\">ἐν </span></div></div><div class=\"contnr c0 trm   \" ><div class=\"lbl c0 trm \" ><span class=\"txtu grc\">λαχάνοις· </span></div></div><div class=\"contnr c0 trm   \" ><div class=\"lbl c0 trm \" ><span class=\"txtu grc\">ὃ </span></div></div><div class=\"contnr c0 trm   \" ><div class=\"lbl c0 trm \" ><span class=\"txtu grc\">δ’  </span></div></div><div class=\"contnr c0 trm   \" ><div class=\"lbl c0 trm \" ><span class=\"txtu grc\">ἐπ’  </span></div></div><div class=\"contnr c0 trm   \" ><div class=\"lbl c0 trm \" ><span class=\"txtu grc\">ἐννέα </span></div></div><div class=\"contnr c0 trm   \" ><div class=\"lbl c0 trm \" ><span class=\"txtu grc\">κεῖτο </span></div></div><div class=\"contnr c0 trm   \" ><div class=\"lbl c0 trm \" ><span class=\"txtu grc\">τραπέζας. </span></div></div></div></div></div>"
      ],
      "text/plain": [
       "<IPython.core.display.HTML object>"
      ]
     },
     "metadata": {},
     "output_type": "display_data"
    },
    {
     "data": {
      "text/html": [
       "<p><b>result</b> <i>11</i></p>"
      ],
      "text/plain": [
       "<IPython.core.display.HTML object>"
      ]
     },
     "metadata": {},
     "output_type": "display_data"
    },
    {
     "data": {
      "text/html": [
       "<span class=\"section ltr\">3 4:1813</span><div class=\" children\"><div class=\"contnr c3    \" ><div class=\"lbl c3  \" ><span class=\"nd\">_sentence</span></div><div class=\"children hor wrap \"><div class=\"contnr c0 trm   \" ><div class=\"lbl c0 trm \" ><span class=\"txtu grc\">Μάτρων </span></div></div><div class=\"contnr c0 trm   \" ><div class=\"lbl c0 trm \" ><span class=\"txtu grc\">ἐν </span></div></div><div class=\"contnr c0 trm   hl\" ><div class=\"lbl c0 trm hl\" ><span class=\"txtu grc\">παρῳδίαις( )·  </span></div></div><div class=\"contnr c0 trm   \" ><div class=\"lbl c0 trm \" ><span class=\"txtu grc\">καὶ </span></div></div><div class=\"contnr c0 trm   \" ><div class=\"lbl c0 trm \" ><span class=\"txtu grc\">σικυὸν </span></div></div><div class=\"contnr c0 trm   \" ><div class=\"lbl c0 trm \" ><span class=\"txtu grc\">εἶδον, </span></div></div><div class=\"contnr c0 trm   \" ><div class=\"lbl c0 trm \" ><span class=\"txtu grc\">γαίης </span></div></div><div class=\"contnr c0 trm   \" ><div class=\"lbl c0 trm \" ><span class=\"txtu grc\">ἐρικυδέος </span></div></div><div class=\"contnr c0 trm   \" ><div class=\"lbl c0 trm \" ><span class=\"txtu grc\">υἱόν, </span></div></div><div class=\"contnr c0 trm   \" ><div class=\"lbl c0 trm \" ><span class=\"txtu grc\">κείμενον </span></div></div><div class=\"contnr c0 trm   \" ><div class=\"lbl c0 trm \" ><span class=\"txtu grc\">ἐν </span></div></div><div class=\"contnr c0 trm   \" ><div class=\"lbl c0 trm \" ><span class=\"txtu grc\">λαχάνοις· </span></div></div><div class=\"contnr c0 trm   \" ><div class=\"lbl c0 trm \" ><span class=\"txtu grc\">ὃ </span></div></div><div class=\"contnr c0 trm   \" ><div class=\"lbl c0 trm \" ><span class=\"txtu grc\">δ’  </span></div></div><div class=\"contnr c0 trm   \" ><div class=\"lbl c0 trm \" ><span class=\"txtu grc\">ἐπ’  </span></div></div><div class=\"contnr c0 trm   \" ><div class=\"lbl c0 trm \" ><span class=\"txtu grc\">ἐννέα </span></div></div><div class=\"contnr c0 trm   \" ><div class=\"lbl c0 trm \" ><span class=\"txtu grc\">κεῖτο </span></div></div><div class=\"contnr c0 trm   \" ><div class=\"lbl c0 trm \" ><span class=\"txtu grc\">τραπέζας. </span></div></div></div></div></div>"
      ],
      "text/plain": [
       "<IPython.core.display.HTML object>"
      ]
     },
     "metadata": {},
     "output_type": "display_data"
    },
    {
     "data": {
      "text/html": [
       "<p><b>result</b> <i>12</i></p>"
      ],
      "text/plain": [
       "<IPython.core.display.HTML object>"
      ]
     },
     "metadata": {},
     "output_type": "display_data"
    },
    {
     "data": {
      "text/html": [
       "<span class=\"section ltr\">3 4:1813</span><div class=\" children\"><div class=\"contnr c3    \" ><div class=\"lbl c3  \" ><span class=\"nd\">_sentence</span></div><div class=\"children hor wrap \"><div class=\"contnr c0 trm   \" ><div class=\"lbl c0 trm \" ><span class=\"txtu grc\">Μάτρων </span></div></div><div class=\"contnr c0 trm   \" ><div class=\"lbl c0 trm \" ><span class=\"txtu grc\">ἐν </span></div></div><div class=\"contnr c0 trm   \" ><div class=\"lbl c0 trm \" ><span class=\"txtu grc\">παρῳδίαις( )·  </span></div></div><div class=\"contnr c0 trm   hl\" ><div class=\"lbl c0 trm hl\" ><span class=\"txtu grc\">καὶ </span></div></div><div class=\"contnr c0 trm   \" ><div class=\"lbl c0 trm \" ><span class=\"txtu grc\">σικυὸν </span></div></div><div class=\"contnr c0 trm   \" ><div class=\"lbl c0 trm \" ><span class=\"txtu grc\">εἶδον, </span></div></div><div class=\"contnr c0 trm   \" ><div class=\"lbl c0 trm \" ><span class=\"txtu grc\">γαίης </span></div></div><div class=\"contnr c0 trm   \" ><div class=\"lbl c0 trm \" ><span class=\"txtu grc\">ἐρικυδέος </span></div></div><div class=\"contnr c0 trm   \" ><div class=\"lbl c0 trm \" ><span class=\"txtu grc\">υἱόν, </span></div></div><div class=\"contnr c0 trm   \" ><div class=\"lbl c0 trm \" ><span class=\"txtu grc\">κείμενον </span></div></div><div class=\"contnr c0 trm   \" ><div class=\"lbl c0 trm \" ><span class=\"txtu grc\">ἐν </span></div></div><div class=\"contnr c0 trm   \" ><div class=\"lbl c0 trm \" ><span class=\"txtu grc\">λαχάνοις· </span></div></div><div class=\"contnr c0 trm   \" ><div class=\"lbl c0 trm \" ><span class=\"txtu grc\">ὃ </span></div></div><div class=\"contnr c0 trm   \" ><div class=\"lbl c0 trm \" ><span class=\"txtu grc\">δ’  </span></div></div><div class=\"contnr c0 trm   \" ><div class=\"lbl c0 trm \" ><span class=\"txtu grc\">ἐπ’  </span></div></div><div class=\"contnr c0 trm   \" ><div class=\"lbl c0 trm \" ><span class=\"txtu grc\">ἐννέα </span></div></div><div class=\"contnr c0 trm   \" ><div class=\"lbl c0 trm \" ><span class=\"txtu grc\">κεῖτο </span></div></div><div class=\"contnr c0 trm   \" ><div class=\"lbl c0 trm \" ><span class=\"txtu grc\">τραπέζας. </span></div></div></div></div></div>"
      ],
      "text/plain": [
       "<IPython.core.display.HTML object>"
      ]
     },
     "metadata": {},
     "output_type": "display_data"
    },
    {
     "data": {
      "text/html": [
       "<p><b>result</b> <i>13</i></p>"
      ],
      "text/plain": [
       "<IPython.core.display.HTML object>"
      ]
     },
     "metadata": {},
     "output_type": "display_data"
    },
    {
     "data": {
      "text/html": [
       "<span class=\"section ltr\">3 4:1813</span><div class=\" children\"><div class=\"contnr c3    \" ><div class=\"lbl c3  \" ><span class=\"nd\">_sentence</span></div><div class=\"children hor wrap \"><div class=\"contnr c0 trm   \" ><div class=\"lbl c0 trm \" ><span class=\"txtu grc\">Μάτρων </span></div></div><div class=\"contnr c0 trm   \" ><div class=\"lbl c0 trm \" ><span class=\"txtu grc\">ἐν </span></div></div><div class=\"contnr c0 trm   \" ><div class=\"lbl c0 trm \" ><span class=\"txtu grc\">παρῳδίαις( )·  </span></div></div><div class=\"contnr c0 trm   \" ><div class=\"lbl c0 trm \" ><span class=\"txtu grc\">καὶ </span></div></div><div class=\"contnr c0 trm   hl\" ><div class=\"lbl c0 trm hl\" ><span class=\"txtu grc\">σικυὸν </span></div></div><div class=\"contnr c0 trm   \" ><div class=\"lbl c0 trm \" ><span class=\"txtu grc\">εἶδον, </span></div></div><div class=\"contnr c0 trm   \" ><div class=\"lbl c0 trm \" ><span class=\"txtu grc\">γαίης </span></div></div><div class=\"contnr c0 trm   \" ><div class=\"lbl c0 trm \" ><span class=\"txtu grc\">ἐρικυδέος </span></div></div><div class=\"contnr c0 trm   \" ><div class=\"lbl c0 trm \" ><span class=\"txtu grc\">υἱόν, </span></div></div><div class=\"contnr c0 trm   \" ><div class=\"lbl c0 trm \" ><span class=\"txtu grc\">κείμενον </span></div></div><div class=\"contnr c0 trm   \" ><div class=\"lbl c0 trm \" ><span class=\"txtu grc\">ἐν </span></div></div><div class=\"contnr c0 trm   \" ><div class=\"lbl c0 trm \" ><span class=\"txtu grc\">λαχάνοις· </span></div></div><div class=\"contnr c0 trm   \" ><div class=\"lbl c0 trm \" ><span class=\"txtu grc\">ὃ </span></div></div><div class=\"contnr c0 trm   \" ><div class=\"lbl c0 trm \" ><span class=\"txtu grc\">δ’  </span></div></div><div class=\"contnr c0 trm   \" ><div class=\"lbl c0 trm \" ><span class=\"txtu grc\">ἐπ’  </span></div></div><div class=\"contnr c0 trm   \" ><div class=\"lbl c0 trm \" ><span class=\"txtu grc\">ἐννέα </span></div></div><div class=\"contnr c0 trm   \" ><div class=\"lbl c0 trm \" ><span class=\"txtu grc\">κεῖτο </span></div></div><div class=\"contnr c0 trm   \" ><div class=\"lbl c0 trm \" ><span class=\"txtu grc\">τραπέζας. </span></div></div></div></div></div>"
      ],
      "text/plain": [
       "<IPython.core.display.HTML object>"
      ]
     },
     "metadata": {},
     "output_type": "display_data"
    }
   ],
   "source": [
    "A.show(results, start=8, end=13, skipCols=\"1 2\")"
   ]
  },
  {
   "cell_type": "markdown",
   "metadata": {
    "lines_to_next_cell": 2
   },
   "source": [
    "Before we go on, there is a thing with Unicode.\n",
    "\n",
    "All Greek strings in this corpus are in decomposed normal form. That means e.g. that\n",
    "`ἐπί` has 5 letters.\n",
    "\n",
    "However, when this string is printed in a Jupyter notebook, it is converted to composed normal form.\n",
    "So when we copy and paste such a string in a query, we must make sure that we paste the denormalized form.\n",
    "\n",
    "We use a utility function for that:"
   ]
  },
  {
   "cell_type": "code",
   "execution_count": 7,
   "metadata": {},
   "outputs": [],
   "source": [
    "def ud(s):\n",
    "    return unicodedata.normalize(\"NFD\", s)"
   ]
  },
  {
   "cell_type": "code",
   "execution_count": 8,
   "metadata": {},
   "outputs": [
    {
     "name": "stdout",
     "output_type": "stream",
     "text": [
      "  0.27s 1390 results\n"
     ]
    },
    {
     "data": {
      "text/html": [
       "<p><b>_sentence</b> <i>1</i></p>"
      ],
      "text/plain": [
       "<IPython.core.display.HTML object>"
      ]
     },
     "metadata": {},
     "output_type": "display_data"
    },
    {
     "data": {
      "text/html": [
       "<span class=\"section ltr\">1 2:12</span><div class=\" children\"><div class=\"contnr c3    \" ><div class=\"lbl c3  \" ><span class=\"nd\">_sentence</span></div><div class=\"children hor wrap \"><div class=\"contnr c0 trm   \" ><div class=\"lbl c0 trm \" ><span class=\"txtu grc\">οἷον </span></div><div class='features'><span class=\"lemma xft\" ><span class=\"f\">lemma=</span>οἷος</span></div></div><div class=\"contnr c0 trm   \" ><div class=\"lbl c0 trm \" ><span class=\"txtu grc\">εἰ </span></div><div class='features'><span class=\"lemma xft\" ><span class=\"f\">lemma=</span>εἶμι,εἰ,εἰμί</span></div></div><div class=\"contnr c0 trm   \" ><div class=\"lbl c0 trm \" ><span class=\"txtu grc\">κεῖται </span></div><div class='features'><span class=\"lemma xft\" ><span class=\"f\">lemma=</span>κεῖμαι</span></div></div><div class=\"contnr c0 trm   \" ><div class=\"lbl c0 trm \" ><span class=\"txtu grc\">ὥρα </span></div><div class='features'><span class=\"lemma xft\" ><span class=\"f\">lemma=</span>ὁράω,ὥρα,ὥρα2</span></div></div><div class=\"contnr c0 trm   hl\" ><div class=\"lbl c0 trm hl\" ><span class=\"txtu grc\">ἐπὶ </span></div><div class='features'><span class=\"lemma xft\" ><span class=\"f\">lemma=</span>ἐπί</span></div></div><div class=\"contnr c0 trm   \" ><div class=\"lbl c0 trm \" ><span class=\"txtu grc\">τοῦ </span></div><div class='features'><span class=\"lemma xft\" ><span class=\"f\">lemma=</span>ὅς,ὁ,τίς,τις</span></div></div><div class=\"contnr c0 trm   \" ><div class=\"lbl c0 trm \" ><span class=\"txtu grc\">τῆς </span></div><div class='features'><span class=\"lemma xft\" ><span class=\"f\">lemma=</span>ὅς,ὁ</span></div></div><div class=\"contnr c0 trm   \" ><div class=\"lbl c0 trm \" ><span class=\"txtu grc\">ἡμέρας </span></div><div class='features'><span class=\"lemma xft\" ><span class=\"f\">lemma=</span>ἥμερος,ἡμέρα</span></div></div><div class=\"contnr c0 trm   \" ><div class=\"lbl c0 trm \" ><span class=\"txtu grc\">μορίου, </span></div><div class='features'><span class=\"lemma xft\" ><span class=\"f\">lemma=</span>μόριος,μόριον</span></div></div><div class=\"contnr c0 trm   \" ><div class=\"lbl c0 trm \" ><span class=\"txtu grc\">εἰ </span></div><div class='features'><span class=\"lemma xft\" ><span class=\"f\">lemma=</span>εἶμι,εἰ,εἰμί</span></div></div><div class=\"contnr c0 trm   \" ><div class=\"lbl c0 trm \" ><span class=\"txtu grc\">ὁ </span></div><div class='features'><span class=\"lemma xft\" ><span class=\"f\">lemma=</span>ὅς,ὁ</span></div></div><div class=\"contnr c0 trm   \" ><div class=\"lbl c0 trm \" ><span class=\"txtu grc\">μέθυσος </span></div><div class='features'><span class=\"lemma xft\" ><span class=\"f\">lemma=</span>μέθυσος</span></div></div><div class=\"contnr c0 trm   hl\" ><div class=\"lbl c0 trm hl\" ><span class=\"txtu grc\">ἐπὶ </span></div><div class='features'><span class=\"lemma xft\" ><span class=\"f\">lemma=</span>ἐπί</span></div></div><div class=\"contnr c0 trm   \" ><div class=\"lbl c0 trm \" ><span class=\"txtu grc\">ἀνδρός, </span></div><div class='features'><span class=\"lemma xft\" ><span class=\"f\">lemma=</span>ἀνήρ</span></div></div><div class=\"contnr c0 trm   \" ><div class=\"lbl c0 trm \" ><span class=\"txtu grc\">εἰ </span></div><div class='features'><span class=\"lemma xft\" ><span class=\"f\">lemma=</span>εἶμι,εἰ,εἰμί</span></div></div><div class=\"contnr c0 trm   \" ><div class=\"lbl c0 trm \" ><span class=\"txtu grc\">ἡ </span></div><div class='features'><span class=\"lemma xft\" ><span class=\"f\">lemma=</span>ὅς,ὁ</span></div></div><div class=\"contnr c0 trm   \" ><div class=\"lbl c0 trm \" ><span class=\"txtu grc\">μήτρα </span></div><div class='features'><span class=\"lemma xft\" ><span class=\"f\">lemma=</span>μήτρα,μήτηρ</span></div></div><div class=\"contnr c0 trm   \" ><div class=\"lbl c0 trm \" ><span class=\"txtu grc\">κεῖται </span></div><div class='features'><span class=\"lemma xft\" ><span class=\"f\">lemma=</span>κεῖμαι</span></div></div><div class=\"contnr c0 trm   hl\" ><div class=\"lbl c0 trm hl\" ><span class=\"txtu grc\">ἐπὶ </span></div><div class='features'><span class=\"lemma xft\" ><span class=\"f\">lemma=</span>ἐπί</span></div></div><div class=\"contnr c0 trm   \" ><div class=\"lbl c0 trm \" ><span class=\"txtu grc\">τοῦ </span></div><div class='features'><span class=\"lemma xft\" ><span class=\"f\">lemma=</span>ὅς,ὁ,τίς,τις</span></div></div><div class=\"contnr c0 trm   \" ><div class=\"lbl c0 trm \" ><span class=\"txtu grc\">ἐδωδίμου </span></div><div class='features'><span class=\"lemma xft\" ><span class=\"f\">lemma=</span>ἐδώδιμος</span></div></div><div class=\"contnr c0 trm   \" ><div class=\"lbl c0 trm \" ><span class=\"txtu grc\">βρώματος, </span></div><div class='features'><span class=\"lemma xft\" ><span class=\"f\">lemma=</span>βρῶμα</span></div></div><div class=\"contnr c0 trm   \" ><div class=\"lbl c0 trm \" ><span class=\"txtu grc\">εἰ </span></div><div class='features'><span class=\"lemma xft\" ><span class=\"f\">lemma=</span>εἶμι,εἰ,εἰμί</span></div></div><div class=\"contnr c0 trm   \" ><div class=\"lbl c0 trm \" ><span class=\"txtu grc\">σύαγρος </span></div><div class='features'><span class=\"lemma xft\" ><span class=\"f\">lemma=</span>σύαγρος</span></div></div><div class=\"contnr c0 trm   \" ><div class=\"lbl c0 trm \" ><span class=\"txtu grc\">κεῖται </span></div><div class='features'><span class=\"lemma xft\" ><span class=\"f\">lemma=</span>κεῖμαι</span></div></div><div class=\"contnr c0 trm   \" ><div class=\"lbl c0 trm \" ><span class=\"txtu grc\">τὸ </span></div><div class='features'><span class=\"lemma xft\" ><span class=\"f\">lemma=</span>ὅς,ὁ</span></div></div><div class=\"contnr c0 trm   \" ><div class=\"lbl c0 trm \" ><span class=\"txtu grc\">σύνθετον </span></div><div class='features'><span class=\"lemma xft\" ><span class=\"f\">lemma=</span>συντίθημι,σύνθετος</span></div></div><div class=\"contnr c0 trm   hl\" ><div class=\"lbl c0 trm hl\" ><span class=\"txtu grc\">ἐπὶ </span></div><div class='features'><span class=\"lemma xft\" ><span class=\"f\">lemma=</span>ἐπί</span></div></div><div class=\"contnr c0 trm   \" ><div class=\"lbl c0 trm \" ><span class=\"txtu grc\">τοῦ </span></div><div class='features'><span class=\"lemma xft\" ><span class=\"f\">lemma=</span>ὅς,ὁ,τίς,τις</span></div></div><div class=\"contnr c0 trm   \" ><div class=\"lbl c0 trm \" ><span class=\"txtu grc\">συός. </span></div><div class='features'><span class=\"lemma xft\" ><span class=\"f\">lemma=</span>ὗς</span></div></div></div></div></div>"
      ],
      "text/plain": [
       "<IPython.core.display.HTML object>"
      ]
     },
     "metadata": {},
     "output_type": "display_data"
    },
    {
     "data": {
      "text/html": [
       "<p><b>_sentence</b> <i>2</i></p>"
      ],
      "text/plain": [
       "<IPython.core.display.HTML object>"
      ]
     },
     "metadata": {},
     "output_type": "display_data"
    },
    {
     "data": {
      "text/html": [
       "<span class=\"section ltr\">1 4:20</span><div class=\" children\"><div class=\"contnr c3    \" ><div class=\"lbl c3  \" ><span class=\"nd\">_sentence</span></div><div class=\"children hor wrap \"><div class=\"contnr c0 trm   \" ><div class=\"lbl c0 trm \" ><span class=\"txtu grc\">λέγει </span></div><div class='features'><span class=\"lemma xft\" ><span class=\"f\">lemma=</span>λέγω1,λέγω</span></div></div><div class=\"contnr c0 trm   \" ><div class=\"lbl c0 trm \" ><span class=\"txtu grc\">δ’  </span></div><div class='features'><span class=\"lemma xft\" ><span class=\"f\">lemma=</span>δέ</span></div></div><div class=\"contnr c0 trm   \" ><div class=\"lbl c0 trm \" ><span class=\"txtu grc\">αὐτὸν </span></div><div class='features'><span class=\"lemma xft\" ><span class=\"f\">lemma=</span>αὐτός</span></div></div><div class=\"contnr c0 trm   \" ><div class=\"lbl c0 trm \" ><span class=\"txtu grc\">καὶ </span></div><div class='features'><span class=\"lemma xft\" ><span class=\"f\">lemma=</span>καί</span></div></div><div class=\"contnr c0 trm   \" ><div class=\"lbl c0 trm \" ><span class=\"txtu grc\">καθεσταμένον </span></div><div class='features'><span class=\"lemma xft\" ><span class=\"f\">lemma=</span>καθίστημι</span></div></div><div class=\"contnr c0 trm   hl\" ><div class=\"lbl c0 trm hl\" ><span class=\"txtu grc\">ἐπὶ </span></div><div class='features'><span class=\"lemma xft\" ><span class=\"f\">lemma=</span>ἐπί</span></div></div><div class=\"contnr c0 trm   \" ><div class=\"lbl c0 trm \" ><span class=\"txtu grc\">τῶν </span></div><div class='features'><span class=\"lemma xft\" ><span class=\"f\">lemma=</span>ὅς,ὁ</span></div></div><div class=\"contnr c0 trm   \" ><div class=\"lbl c0 trm \" ><span class=\"txtu grc\">ἱερῶν </span></div><div class='features'><span class=\"lemma xft\" ><span class=\"f\">lemma=</span>ἱερόω,ἱεραί,ἱερόν,ἱερός,ἱερή</span></div></div><div class=\"contnr c0 trm   \" ><div class=\"lbl c0 trm \" ><span class=\"txtu grc\">εἶναι </span></div><div class='features'><span class=\"lemma xft\" ><span class=\"f\">lemma=</span>εἶτα,εἰμί</span></div></div><div class=\"contnr c0 trm   \" ><div class=\"lbl c0 trm \" ><span class=\"txtu grc\">καὶ </span></div><div class='features'><span class=\"lemma xft\" ><span class=\"f\">lemma=</span>καί</span></div></div><div class=\"contnr c0 trm   \" ><div class=\"lbl c0 trm \" ><span class=\"txtu grc\">θυσιῶν </span></div><div class='features'><span class=\"lemma xft\" ><span class=\"f\">lemma=</span>θυσιάζω,θύω,θυσία</span></div></div><div class=\"contnr c0 trm   \" ><div class=\"lbl c0 trm \" ><span class=\"txtu grc\">ὑπὸ </span></div><div class='features'><span class=\"lemma xft\" ><span class=\"f\">lemma=</span>ὑπό</span></div></div><div class=\"contnr c0 trm   \" ><div class=\"lbl c0 trm \" ><span class=\"txtu grc\">τοῦ </span></div><div class='features'><span class=\"lemma xft\" ><span class=\"f\">lemma=</span>ὅς,ὁ,τίς,τις</span></div></div><div class=\"contnr c0 trm   \" ><div class=\"lbl c0 trm \" ><span class=\"txtu grc\">πάντα </span></div><div class='features'><span class=\"lemma xft\" ><span class=\"f\">lemma=</span>πᾶς,πάντῃ</span></div></div><div class=\"contnr c0 trm   \" ><div class=\"lbl c0 trm \" ><span class=\"txtu grc\">ἀρίστου </span></div><div class='features'><span class=\"lemma xft\" ><span class=\"f\">lemma=</span>ἄριστος,ἀριστάω,ἄριστον</span></div></div><div class=\"contnr c0 trm   \" ><div class=\"lbl c0 trm \" ><span class=\"txtu grc\">βασιλέως </span></div><div class='features'><span class=\"lemma xft\" ><span class=\"f\">lemma=</span>βασιλίς,βασιλεύς</span></div></div><div class=\"contnr c0 trm   \" ><div class=\"lbl c0 trm \" ><span class=\"txtu grc\">Μάρκου </span></div><div class='features'><span class=\"lemma xft\" ><span class=\"f\">lemma=</span>μάρκος</span></div></div><div class=\"contnr c0 trm   \" ><div class=\"lbl c0 trm \" ><span class=\"txtu grc\">καὶ </span></div><div class='features'><span class=\"lemma xft\" ><span class=\"f\">lemma=</span>καί</span></div></div><div class=\"contnr c0 trm   \" ><div class=\"lbl c0 trm \" ><span class=\"txtu grc\">μὴ </span></div><div class='features'><span class=\"lemma xft\" ><span class=\"f\">lemma=</span>μή</span></div></div><div class=\"contnr c0 trm   \" ><div class=\"lbl c0 trm \" ><span class=\"txtu grc\">ἔλαττον </span></div><div class='features'><span class=\"lemma xft\" ><span class=\"f\">lemma=</span>ἐλάσσων</span></div></div><div class=\"contnr c0 trm   \" ><div class=\"lbl c0 trm \" ><span class=\"txtu grc\">τῶν </span></div><div class='features'><span class=\"lemma xft\" ><span class=\"f\">lemma=</span>ὅς,ὁ</span></div></div><div class=\"contnr c0 trm   \" ><div class=\"lbl c0 trm \" ><span class=\"txtu grc\">πατρίων </span></div><div class='features'><span class=\"lemma xft\" ><span class=\"f\">lemma=</span>πάτριος,πατριά</span></div></div><div class=\"contnr c0 trm   \" ><div class=\"lbl c0 trm \" ><span class=\"txtu grc\">τὰ </span></div><div class='features'><span class=\"lemma xft\" ><span class=\"f\">lemma=</span>ὅς,ὁ,τίς</span></div></div><div class=\"contnr c0 trm   \" ><div class=\"lbl c0 trm \" ><span class=\"txtu grc\">τῶν </span></div><div class='features'><span class=\"lemma xft\" ><span class=\"f\">lemma=</span>ὅς,ὁ</span></div></div><div class=\"contnr c0 trm   \" ><div class=\"lbl c0 trm \" ><span class=\"txtu grc\">Ἑλλήνων </span></div><div class='features'><span class=\"lemma xft\" ><span class=\"f\">lemma=</span>ἕλλην</span></div></div><div class=\"contnr c0 trm   \" ><div class=\"lbl c0 trm \" ><span class=\"txtu grc\">μεταχειρίζεσθαι. </span></div><div class='features'><span class=\"lemma xft\" ><span class=\"f\">lemma=</span>μεταχειρίζομαι,μεταχειρίζω</span></div></div></div></div></div>"
      ],
      "text/plain": [
       "<IPython.core.display.HTML object>"
      ]
     },
     "metadata": {},
     "output_type": "display_data"
    },
    {
     "data": {
      "text/html": [
       "<p><b>_sentence</b> <i>3</i></p>"
      ],
      "text/plain": [
       "<IPython.core.display.HTML object>"
      ]
     },
     "metadata": {},
     "output_type": "display_data"
    },
    {
     "data": {
      "text/html": [
       "<span class=\"section ltr\">1 4:21</span><div class=\" children\"><div class=\"contnr c3    \" ><div class=\"lbl c3  \" ><span class=\"nd\">_sentence</span></div><div class=\"children hor wrap \"><div class=\"contnr c0 trm   \" ><div class=\"lbl c0 trm \" ><span class=\"txtu grc\">καλεῖ </span></div><div class='features'><span class=\"lemma xft\" ><span class=\"f\">lemma=</span>καλέω</span></div></div><div class=\"contnr c0 trm   \" ><div class=\"lbl c0 trm \" ><span class=\"txtu grc\">δὲ </span></div><div class='features'><span class=\"lemma xft\" ><span class=\"f\">lemma=</span>δέ</span></div></div><div class=\"contnr c0 trm   \" ><div class=\"lbl c0 trm \" ><span class=\"txtu grc\">αὐτὸν </span></div><div class='features'><span class=\"lemma xft\" ><span class=\"f\">lemma=</span>αὐτός</span></div></div><div class=\"contnr c0 trm   \" ><div class=\"lbl c0 trm \" ><span class=\"txtu grc\">καὶ </span></div><div class='features'><span class=\"lemma xft\" ><span class=\"f\">lemma=</span>καί</span></div></div><div class=\"contnr c0 trm   \" ><div class=\"lbl c0 trm \" ><span class=\"txtu grc\">Ἀστεροπαῖόν </span></div><div class='features'><span class=\"lemma xft\" ><span class=\"f\">lemma=</span>ἀστεροπαῖος</span></div></div><div class=\"contnr c0 trm   \" ><div class=\"lbl c0 trm \" ><span class=\"txtu grc\">τινα, </span></div><div class='features'><span class=\"lemma xft\" ><span class=\"f\">lemma=</span>τίς,τις</span></div></div><div class=\"contnr c0 trm   hl\" ><div class=\"lbl c0 trm hl\" ><span class=\"txtu grc\">ἐπ’  </span></div><div class='features'><span class=\"lemma xft\" ><span class=\"f\">lemma=</span>ἐπί</span></div></div><div class=\"contnr c0 trm   \" ><div class=\"lbl c0 trm \" ><span class=\"txtu grc\">ἴσης </span></div><div class='features'><span class=\"lemma xft\" ><span class=\"f\">lemma=</span>ἰσάζω,ἴσος</span></div></div><div class=\"contnr c0 trm   \" ><div class=\"lbl c0 trm \" ><span class=\"txtu grc\">ἀμφοτέρων </span></div><div class='features'><span class=\"lemma xft\" ><span class=\"f\">lemma=</span>ἀμφότερος</span></div></div><div class=\"contnr c0 trm   \" ><div class=\"lbl c0 trm \" ><span class=\"txtu grc\">τῶν </span></div><div class='features'><span class=\"lemma xft\" ><span class=\"f\">lemma=</span>ὅς,ὁ</span></div></div><div class=\"contnr c0 trm   \" ><div class=\"lbl c0 trm \" ><span class=\"txtu grc\">φωνῶν </span></div><div class='features'><span class=\"lemma xft\" ><span class=\"f\">lemma=</span>φωνή,φωνέω</span></div></div><div class=\"contnr c0 trm   \" ><div class=\"lbl c0 trm \" ><span class=\"txtu grc\">προιστάμενον. </span></div><div class='features'><span class=\"lemma xft\" ><span class=\"f\">lemma=</span>προίστημι,προΐστημι</span></div></div></div></div></div>"
      ],
      "text/plain": [
       "<IPython.core.display.HTML object>"
      ]
     },
     "metadata": {},
     "output_type": "display_data"
    },
    {
     "data": {
      "text/html": [
       "<p><b>_sentence</b> <i>4</i></p>"
      ],
      "text/plain": [
       "<IPython.core.display.HTML object>"
      ]
     },
     "metadata": {},
     "output_type": "display_data"
    },
    {
     "data": {
      "text/html": [
       "<span class=\"section ltr\">1 4:24</span><div class=\" children\"><div class=\"contnr c3    \" ><div class=\"lbl c3  \" ><span class=\"nd\">_sentence</span></div><div class=\"children hor wrap \"><div class=\"contnr c0 trm   \" ><div class=\"lbl c0 trm \" ><span class=\"txtu grc\">ἦν </span></div><div class='features'><span class=\"lemma xft\" ><span class=\"f\">lemma=</span>ἠμί,ἐάν,ἤν,εἰμί</span></div></div><div class=\"contnr c0 trm   \" ><div class=\"lbl c0 trm \" ><span class=\"txtu grc\">δέ, </span></div><div class='features'><span class=\"lemma xft\" ><span class=\"f\">lemma=</span>δέ</span></div></div><div class=\"contnr c0 trm   \" ><div class=\"lbl c0 trm \" ><span class=\"txtu grc\">φησί, </span></div><div class='features'><span class=\"lemma xft\" ><span class=\"f\">lemma=</span>φημί</span></div></div><div class=\"contnr c0 trm   \" ><div class=\"lbl c0 trm \" ><span class=\"txtu grc\">καὶ </span></div><div class='features'><span class=\"lemma xft\" ><span class=\"f\">lemma=</span>καί</span></div></div><div class=\"contnr c0 trm   \" ><div class=\"lbl c0 trm \" ><span class=\"txtu grc\">βιβλίων </span></div><div class='features'><span class=\"lemma xft\" ><span class=\"f\">lemma=</span>βιβλίον</span></div></div><div class=\"contnr c0 trm   \" ><div class=\"lbl c0 trm \" ><span class=\"txtu grc\">κτῆσις </span></div><div class='features'><span class=\"lemma xft\" ><span class=\"f\">lemma=</span>κτῆσις</span></div></div><div class=\"contnr c0 trm   \" ><div class=\"lbl c0 trm \" ><span class=\"txtu grc\">αὐτῷ </span></div><div class='features'><span class=\"lemma xft\" ><span class=\"f\">lemma=</span>αὐτός</span></div></div><div class=\"contnr c0 trm   \" ><div class=\"lbl c0 trm \" ><span class=\"txtu grc\">ἀρχαίων </span></div><div class='features'><span class=\"lemma xft\" ><span class=\"f\">lemma=</span>ἀρχαῖος</span></div></div><div class=\"contnr c0 trm   \" ><div class=\"lbl c0 trm \" ><span class=\"txtu grc\">Ἑλληνικῶν </span></div><div class='features'><span class=\"lemma xft\" ><span class=\"f\">lemma=</span>ἑλληνικός</span></div></div><div class=\"contnr c0 trm   \" ><div class=\"lbl c0 trm \" ><span class=\"txtu grc\">τοσαύτη </span></div><div class='features'><span class=\"lemma xft\" ><span class=\"f\">lemma=</span>τοσοῦτος</span></div></div><div class=\"contnr c0 trm   \" ><div class=\"lbl c0 trm \" ><span class=\"txtu grc\">ὡς </span></div><div class='features'><span class=\"lemma xft\" ><span class=\"f\">lemma=</span>ὅς,ὡς</span></div></div><div class=\"contnr c0 trm   \" ><div class=\"lbl c0 trm \" ><span class=\"txtu grc\">ὑπερβάλλειν </span></div><div class='features'><span class=\"lemma xft\" ><span class=\"f\">lemma=</span>ὑπερβάλλω</span></div></div><div class=\"contnr c0 trm   \" ><div class=\"lbl c0 trm \" ><span class=\"txtu grc\">πάντας </span></div><div class='features'><span class=\"lemma xft\" ><span class=\"f\">lemma=</span>πᾶς</span></div></div><div class=\"contnr c0 trm   \" ><div class=\"lbl c0 trm \" ><span class=\"txtu grc\">τοὺς </span></div><div class='features'><span class=\"lemma xft\" ><span class=\"f\">lemma=</span>ὅς,ὁ</span></div></div><div class=\"contnr c0 trm   hl\" ><div class=\"lbl c0 trm hl\" ><span class=\"txtu grc\">ἐπὶ </span></div><div class='features'><span class=\"lemma xft\" ><span class=\"f\">lemma=</span>ἐπί</span></div></div><div class=\"contnr c0 trm   \" ><div class=\"lbl c0 trm \" ><span class=\"txtu grc\">συναγωγῇ </span></div><div class='features'><span class=\"lemma xft\" ><span class=\"f\">lemma=</span>συναγωγεύς,συναγωγή</span></div></div><div class=\"contnr c0 trm   \" ><div class=\"lbl c0 trm \" ><span class=\"txtu grc\">τεθαυμασμένους, </span></div><div class='features'><span class=\"lemma xft\" ><span class=\"f\">lemma=</span>θαυμάζω</span></div></div><div class=\"contnr c0 trm   \" ><div class=\"lbl c0 trm \" ><span class=\"txtu grc\">Πολυκράτην </span></div><div class='features'><span class=\"lemma xft\" ><span class=\"f\">lemma=</span>πολυκράτης</span></div></div><div class=\"contnr c0 trm   \" ><div class=\"lbl c0 trm \" ><span class=\"txtu grc\">τε </span></div><div class='features'><span class=\"lemma xft\" ><span class=\"f\">lemma=</span>σύ,τις,τεός,τε</span></div></div><div class=\"contnr c0 trm   \" ><div class=\"lbl c0 trm \" ><span class=\"txtu grc\">τὸν </span></div><div class='features'><span class=\"lemma xft\" ><span class=\"f\">lemma=</span>ὅς,ὁ</span></div></div><div class=\"contnr c0 trm   \" ><div class=\"lbl c0 trm \" ><span class=\"txtu grc\">Σάμιον </span></div><div class='features'><span class=\"lemma xft\" ><span class=\"f\">lemma=</span>σάμος,σάμιος</span></div></div><div class=\"contnr c0 trm   \" ><div class=\"lbl c0 trm \" ><span class=\"txtu grc\">καὶ </span></div><div class='features'><span class=\"lemma xft\" ><span class=\"f\">lemma=</span>καί</span></div></div><div class=\"contnr c0 trm   \" ><div class=\"lbl c0 trm \" ><span class=\"txtu grc\">Πεισίστρατον </span></div><div class='features'><span class=\"lemma xft\" ><span class=\"f\">lemma=</span>πεισίστρατος</span></div></div><div class=\"contnr c0 trm   \" ><div class=\"lbl c0 trm \" ><span class=\"txtu grc\">τὸν </span></div><div class='features'><span class=\"lemma xft\" ><span class=\"f\">lemma=</span>ὅς,ὁ</span></div></div><div class=\"contnr c0 trm   \" ><div class=\"lbl c0 trm \" ><span class=\"txtu grc\">Ἀθηναίων </span></div><div class='features'><span class=\"lemma xft\" ><span class=\"f\">lemma=</span>ἀθήνη,ἀθηναῖος,ἀθήναιον,ἀθήναια,ἀθήναιος</span></div></div><div class=\"contnr c0 trm   \" ><div class=\"lbl c0 trm \" ><span class=\"txtu grc\">τυραννήσαντα </span></div><div class='features'><span class=\"lemma xft\" ><span class=\"f\">lemma=</span>τυραννεύω</span></div></div><div class=\"contnr c0 trm   \" ><div class=\"lbl c0 trm \" ><span class=\"txtu grc\">Εὐκλείδην </span></div><div class='features'><span class=\"lemma xft\" ><span class=\"f\">lemma=</span>εὐκλείδης</span></div></div><div class=\"contnr c0 trm   \" ><div class=\"lbl c0 trm \" ><span class=\"txtu grc\">τε </span></div><div class='features'><span class=\"lemma xft\" ><span class=\"f\">lemma=</span>σύ,τις,τεός,τε</span></div></div><div class=\"contnr c0 trm   \" ><div class=\"lbl c0 trm \" ><span class=\"txtu grc\">τὸν </span></div><div class='features'><span class=\"lemma xft\" ><span class=\"f\">lemma=</span>ὅς,ὁ</span></div></div><div class=\"contnr c0 trm   \" ><div class=\"lbl c0 trm \" ><span class=\"txtu grc\">καὶ </span></div><div class='features'><span class=\"lemma xft\" ><span class=\"f\">lemma=</span>καί</span></div></div><div class=\"contnr c0 trm   \" ><div class=\"lbl c0 trm \" ><span class=\"txtu grc\">αὐτὸν </span></div><div class='features'><span class=\"lemma xft\" ><span class=\"f\">lemma=</span>αὐτός</span></div></div><div class=\"contnr c0 trm   \" ><div class=\"lbl c0 trm \" ><span class=\"txtu grc\">Ἀθηναῖον </span></div><div class='features'><span class=\"lemma xft\" ><span class=\"f\">lemma=</span>ἀθήναιον,ἀθηναῖος</span></div></div><div class=\"contnr c0 trm   \" ><div class=\"lbl c0 trm \" ><span class=\"txtu grc\">καὶ </span></div><div class='features'><span class=\"lemma xft\" ><span class=\"f\">lemma=</span>καί</span></div></div><div class=\"contnr c0 trm   \" ><div class=\"lbl c0 trm \" ><span class=\"txtu grc\">Νικοκράτην </span></div><div class='features'><span class=\"lemma xft\" ><span class=\"f\">lemma=</span>νικοκράτης</span></div></div><div class=\"contnr c0 trm   \" ><div class=\"lbl c0 trm \" ><span class=\"txtu grc\">τὸν </span></div><div class='features'><span class=\"lemma xft\" ><span class=\"f\">lemma=</span>ὅς,ὁ</span></div></div><div class=\"contnr c0 trm   \" ><div class=\"lbl c0 trm \" ><span class=\"txtu grc\">Κύπριον </span></div><div class='features'><span class=\"lemma xft\" ><span class=\"f\">lemma=</span>κύπριος</span></div></div><div class=\"contnr c0 trm   \" ><div class=\"lbl c0 trm \" ><span class=\"txtu grc\">ἔτι </span></div><div class='features'><span class=\"lemma xft\" ><span class=\"f\">lemma=</span>ἔτι</span></div></div><div class=\"contnr c0 trm   \" ><div class=\"lbl c0 trm \" ><span class=\"txtu grc\">τε </span></div><div class='features'><span class=\"lemma xft\" ><span class=\"f\">lemma=</span>σύ,τις,τεός,τε</span></div></div><div class=\"contnr c0 trm   \" ><div class=\"lbl c0 trm \" ><span class=\"txtu grc\">τοὺς </span></div><div class='features'><span class=\"lemma xft\" ><span class=\"f\">lemma=</span>ὅς,ὁ</span></div></div><div class=\"contnr c0 trm   \" ><div class=\"lbl c0 trm \" ><span class=\"txtu grc\">Περγάμου </span></div><div class='features'><span class=\"lemma xft\" ><span class=\"f\">lemma=</span>πέργαμος,πέργαμον</span></div></div><div class=\"contnr c0 trm   \" ><div class=\"lbl c0 trm \" ><span class=\"txtu grc\">βασιλέας </span></div><div class='features'><span class=\"lemma xft\" ><span class=\"f\">lemma=</span>βασιλεύς</span></div></div><div class=\"contnr c0 trm   \" ><div class=\"lbl c0 trm \" ><span class=\"txtu grc\">Εὐριπίδην </span></div><div class='features'><span class=\"lemma xft\" ><span class=\"f\">lemma=</span>εὐριπίδης</span></div></div><div class=\"contnr c0 trm   \" ><div class=\"lbl c0 trm \" ><span class=\"txtu grc\">τε </span></div><div class='features'><span class=\"lemma xft\" ><span class=\"f\">lemma=</span>σύ,τις,τεός,τε</span></div></div><div class=\"contnr c0 trm   \" ><div class=\"lbl c0 trm \" ><span class=\"txtu grc\">τὸν </span></div><div class='features'><span class=\"lemma xft\" ><span class=\"f\">lemma=</span>ὅς,ὁ</span></div></div><div class=\"contnr c0 trm   \" ><div class=\"lbl c0 trm \" ><span class=\"txtu grc\">ποιητὴν </span></div><div class='features'><span class=\"lemma xft\" ><span class=\"f\">lemma=</span>ποιητός,ποιητής</span></div></div><div class=\"contnr c0 trm   \" ><div class=\"lbl c0 trm \" ><span class=\"txtu grc\">Ἀριστοτέλην </span></div><div class='features'><span class=\"lemma xft\" ><span class=\"f\">lemma=</span>ἀριστοτέλης</span></div></div><div class=\"contnr c0 trm   \" ><div class=\"lbl c0 trm \" ><span class=\"txtu grc\">τε </span></div><div class='features'><span class=\"lemma xft\" ><span class=\"f\">lemma=</span>σύ,τις,τεός,τε</span></div></div><div class=\"contnr c0 trm   \" ><div class=\"lbl c0 trm \" ><span class=\"txtu grc\">τὸν </span></div><div class='features'><span class=\"lemma xft\" ><span class=\"f\">lemma=</span>ὅς,ὁ</span></div></div><div class=\"contnr c0 trm   \" ><div class=\"lbl c0 trm \" ><span class=\"txtu grc\">φιλόσοφον </span></div><div class='features'><span class=\"lemma xft\" ><span class=\"f\">lemma=</span>φιλόσοφος</span></div></div><div class=\"contnr c0 trm   \" ><div class=\"lbl c0 trm \" ><span class=\"txtu grc\">καὶ </span></div><div class='features'><span class=\"lemma xft\" ><span class=\"f\">lemma=</span>καί</span></div></div><div class=\"contnr c0 trm   \" ><div class=\"lbl c0 trm \" ><span class=\"txtu grc\">Θεόφραστον </span></div><div class='features'><span class=\"lemma xft\" ><span class=\"f\">lemma=</span>θεόφραστος</span></div></div><div class=\"contnr c0 trm   \" ><div class=\"lbl c0 trm \" ><span class=\"txtu grc\">καὶ </span></div><div class='features'><span class=\"lemma xft\" ><span class=\"f\">lemma=</span>καί</span></div></div><div class=\"contnr c0 trm   \" ><div class=\"lbl c0 trm \" ><span class=\"txtu grc\">τὸν </span></div><div class='features'><span class=\"lemma xft\" ><span class=\"f\">lemma=</span>ὅς,ὁ</span></div></div><div class=\"contnr c0 trm   \" ><div class=\"lbl c0 trm \" ><span class=\"txtu grc\">τὰ </span></div><div class='features'><span class=\"lemma xft\" ><span class=\"f\">lemma=</span>ὅς,ὁ,τίς</span></div></div><div class=\"contnr c0 trm   \" ><div class=\"lbl c0 trm \" ><span class=\"txtu grc\">τούτων </span></div><div class='features'><span class=\"lemma xft\" ><span class=\"f\">lemma=</span>οὗτος</span></div></div><div class=\"contnr c0 trm   \" ><div class=\"lbl c0 trm \" ><span class=\"txtu grc\">διατηρήσαντα </span></div><div class='features'><span class=\"lemma xft\" ><span class=\"f\">lemma=</span>διατηρέω</span></div></div><div class=\"contnr c0 trm   \" ><div class=\"lbl c0 trm \" ><span class=\"txtu grc\">βιβλία </span></div><div class='features'><span class=\"lemma xft\" ><span class=\"f\">lemma=</span>βιβλίον</span></div></div><div class=\"contnr c0 trm   \" ><div class=\"lbl c0 trm \" ><span class=\"txtu grc\">Νηλέα· </span></div><div class='features'><span class=\"lemma xft\" ><span class=\"f\">lemma=</span>νηλεύς,νηλής,νηλεής</span></div></div><div class=\"contnr c0 trm   \" ><div class=\"lbl c0 trm \" ><span class=\"txtu grc\">παρ’  </span></div><div class='features'><span class=\"lemma xft\" ><span class=\"f\">lemma=</span>παρά,πηρός</span></div></div><div class=\"contnr c0 trm   \" ><div class=\"lbl c0 trm \" ><span class=\"txtu grc\">οὗ </span></div><div class='features'><span class=\"lemma xft\" ><span class=\"f\">lemma=</span>ἕ,ὅς,οὗ2,ὅς2,ἵημι,οὗ</span></div></div><div class=\"contnr c0 trm   \" ><div class=\"lbl c0 trm \" ><span class=\"txtu grc\">πάντα, </span></div><div class='features'><span class=\"lemma xft\" ><span class=\"f\">lemma=</span>πᾶς,πάντῃ</span></div></div><div class=\"contnr c0 trm   \" ><div class=\"lbl c0 trm \" ><span class=\"txtu grc\">φησί, </span></div><div class='features'><span class=\"lemma xft\" ><span class=\"f\">lemma=</span>φημί</span></div></div><div class=\"contnr c0 trm   \" ><div class=\"lbl c0 trm \" ><span class=\"txtu grc\">πριάμενος </span></div><div class='features'><span class=\"lemma xft\" ><span class=\"f\">lemma=</span>πρίαμαι</span></div></div><div class=\"contnr c0 trm   \" ><div class=\"lbl c0 trm \" ><span class=\"txtu grc\">ὁ </span></div><div class='features'><span class=\"lemma xft\" ><span class=\"f\">lemma=</span>ὅς,ὁ</span></div></div><div class=\"contnr c0 trm   \" ><div class=\"lbl c0 trm \" ><span class=\"txtu grc\">ἡμεδαπὸς </span></div><div class='features'><span class=\"lemma xft\" ><span class=\"f\">lemma=</span>ἡμεδαπός</span></div></div><div class=\"contnr c0 trm   \" ><div class=\"lbl c0 trm \" ><span class=\"txtu grc\">βασιλεὺς </span></div><div class='features'><span class=\"lemma xft\" ><span class=\"f\">lemma=</span>βασιλεύς</span></div></div><div class=\"contnr c0 trm   \" ><div class=\"lbl c0 trm \" ><span class=\"txtu grc\">Πτολεμαῖος, </span></div><div class='features'><span class=\"lemma xft\" ><span class=\"f\">lemma=</span>πτολεμαῖος</span></div></div><div class=\"contnr c0 trm   \" ><div class=\"lbl c0 trm \" ><span class=\"txtu grc\">Φιλάδελφος </span></div><div class='features'><span class=\"lemma xft\" ><span class=\"f\">lemma=</span>φιλάδελφος</span></div></div><div class=\"contnr c0 trm   \" ><div class=\"lbl c0 trm \" ><span class=\"txtu grc\">δὲ </span></div><div class='features'><span class=\"lemma xft\" ><span class=\"f\">lemma=</span>δέ</span></div></div><div class=\"contnr c0 trm   \" ><div class=\"lbl c0 trm \" ><span class=\"txtu grc\">ἐπίκλην, </span></div><div class='features'><span class=\"lemma xft\" ><span class=\"f\">lemma=</span>ἐπίκλην,ἐπικλάω</span></div></div><div class=\"contnr c0 trm   \" ><div class=\"lbl c0 trm \" ><span class=\"txtu grc\">μετὰ </span></div><div class='features'><span class=\"lemma xft\" ><span class=\"f\">lemma=</span>μετά</span></div></div><div class=\"contnr c0 trm   \" ><div class=\"lbl c0 trm \" ><span class=\"txtu grc\">τῶν </span></div><div class='features'><span class=\"lemma xft\" ><span class=\"f\">lemma=</span>ὅς,ὁ</span></div></div><div class=\"contnr c0 trm   \" ><div class=\"lbl c0 trm \" ><span class=\"txtu grc\">Ἀθήνηθεν </span></div><div class='features'><span class=\"lemma xft\" ><span class=\"f\">lemma=</span>ἀθῆναι,ἀθήνηθεν</span></div></div><div class=\"contnr c0 trm   \" ><div class=\"lbl c0 trm \" ><span class=\"txtu grc\">καὶ </span></div><div class='features'><span class=\"lemma xft\" ><span class=\"f\">lemma=</span>καί</span></div></div><div class=\"contnr c0 trm   \" ><div class=\"lbl c0 trm \" ><span class=\"txtu grc\">τῶν </span></div><div class='features'><span class=\"lemma xft\" ><span class=\"f\">lemma=</span>ὅς,ὁ</span></div></div><div class=\"contnr c0 trm   \" ><div class=\"lbl c0 trm \" ><span class=\"txtu grc\">ἀπὸ </span></div><div class='features'><span class=\"lemma xft\" ><span class=\"f\">lemma=</span>ἀπό</span></div></div><div class=\"contnr c0 trm   \" ><div class=\"lbl c0 trm \" ><span class=\"txtu grc\">Ῥόδου </span></div><div class='features'><span class=\"lemma xft\" ><span class=\"f\">lemma=</span>ῥόδον,ῥόδος</span></div></div><div class=\"contnr c0 trm   \" ><div class=\"lbl c0 trm \" ><span class=\"txtu grc\">εἰς </span></div><div class='features'><span class=\"lemma xft\" ><span class=\"f\">lemma=</span>εἶμι,εἰς,εἰμί</span></div></div><div class=\"contnr c0 trm   \" ><div class=\"lbl c0 trm \" ><span class=\"txtu grc\">τὴν </span></div><div class='features'><span class=\"lemma xft\" ><span class=\"f\">lemma=</span>ὅς,ὁ</span></div></div><div class=\"contnr c0 trm   \" ><div class=\"lbl c0 trm \" ><span class=\"txtu grc\">καλὴν </span></div><div class='features'><span class=\"lemma xft\" ><span class=\"f\">lemma=</span>καλός,καλή</span></div></div><div class=\"contnr c0 trm   \" ><div class=\"lbl c0 trm \" ><span class=\"txtu grc\">Ἀλεξάνδρειαν </span></div><div class='features'><span class=\"lemma xft\" ><span class=\"f\">lemma=</span>ἀλεξάνδρεια,ἀλεξανδρεία</span></div></div><div class=\"contnr c0 trm   \" ><div class=\"lbl c0 trm \" ><span class=\"txtu grc\">μετήγαγε. </span></div><div class='features'><span class=\"lemma xft\" ><span class=\"f\">lemma=</span>μετάγω</span></div></div></div></div></div>"
      ],
      "text/plain": [
       "<IPython.core.display.HTML object>"
      ]
     },
     "metadata": {},
     "output_type": "display_data"
    },
    {
     "data": {
      "text/html": [
       "<p><b>_sentence</b> <i>5</i></p>"
      ],
      "text/plain": [
       "<IPython.core.display.HTML object>"
      ]
     },
     "metadata": {},
     "output_type": "display_data"
    },
    {
     "data": {
      "text/html": [
       "<span class=\"section ltr\">1 4:27</span><div class=\" children\"><div class=\"contnr c3    \" ><div class=\"lbl c3  \" ><span class=\"nd\">_sentence</span></div><div class=\"children hor wrap \"><div class=\"contnr c0 trm   \" ><div class=\"lbl c0 trm \" ><span class=\"txtu grc\">καὶ </span></div><div class='features'><span class=\"lemma xft\" ><span class=\"f\">lemma=</span>καί</span></div></div><div class=\"contnr c0 trm   hl\" ><div class=\"lbl c0 trm hl\" ><span class=\"txtu grc\">ἐπὶ </span></div><div class='features'><span class=\"lemma xft\" ><span class=\"f\">lemma=</span>ἐπί</span></div></div><div class=\"contnr c0 trm   \" ><div class=\"lbl c0 trm \" ><span class=\"txtu grc\">τὰς </span></div><div class='features'><span class=\"lemma xft\" ><span class=\"f\">lemma=</span>ὅς,ὁ</span></div></div><div class=\"contnr c0 trm   \" ><div class=\"lbl c0 trm \" ><span class=\"txtu grc\">ἑστιάσεις </span></div><div class='features'><span class=\"lemma xft\" ><span class=\"f\">lemma=</span>ἑστιάω,ἑστίασις</span></div></div><div class=\"contnr c0 trm   \" ><div class=\"lbl c0 trm \" ><span class=\"txtu grc\">δὲ </span></div><div class='features'><span class=\"lemma xft\" ><span class=\"f\">lemma=</span>δέ</span></div></div><div class=\"contnr c0 trm   \" ><div class=\"lbl c0 trm \" ><span class=\"txtu grc\">παρακαλῶν </span></div><div class='features'><span class=\"lemma xft\" ><span class=\"f\">lemma=</span>παρακαλέω</span></div></div><div class=\"contnr c0 trm   \" ><div class=\"lbl c0 trm \" ><span class=\"txtu grc\">πατρίδα, </span></div><div class='features'><span class=\"lemma xft\" ><span class=\"f\">lemma=</span>πατρίς</span></div></div><div class=\"contnr c0 trm   \" ><div class=\"lbl c0 trm \" ><span class=\"txtu grc\">φησί, </span></div><div class='features'><span class=\"lemma xft\" ><span class=\"f\">lemma=</span>φημί</span></div></div><div class=\"contnr c0 trm   \" ><div class=\"lbl c0 trm \" ><span class=\"txtu grc\">τὴν </span></div><div class='features'><span class=\"lemma xft\" ><span class=\"f\">lemma=</span>ὅς,ὁ</span></div></div><div class=\"contnr c0 trm   \" ><div class=\"lbl c0 trm \" ><span class=\"txtu grc\">Ῥώμην </span></div><div class='features'><span class=\"lemma xft\" ><span class=\"f\">lemma=</span>ῥώμη</span></div></div><div class=\"contnr c0 trm   \" ><div class=\"lbl c0 trm \" ><span class=\"txtu grc\">πᾶσιν </span></div><div class='features'><span class=\"lemma xft\" ><span class=\"f\">lemma=</span>πᾶς,πᾶσις</span></div></div><div class=\"contnr c0 trm   \" ><div class=\"lbl c0 trm \" ><span class=\"txtu grc\">ἀποφαίνει. </span></div><div class='features'><span class=\"lemma xft\" ><span class=\"f\">lemma=</span>ἀποφαίνω</span></div></div></div></div></div>"
      ],
      "text/plain": [
       "<IPython.core.display.HTML object>"
      ]
     },
     "metadata": {},
     "output_type": "display_data"
    }
   ],
   "source": [
    "query = f\"\"\"\n",
    "word lemma={ud('ἐπί')}\n",
    "\"\"\"\n",
    "results = A.search(query)\n",
    "A.show(results, condenseType=\"_sentence\", condensed=True, end=5)"
   ]
  },
  {
   "cell_type": "code",
   "execution_count": 9,
   "metadata": {},
   "outputs": [
    {
     "data": {
      "text/html": [
       "<table><tr class=\"tf\"><th class=\"tf\">n</th><th class=\"tf\">p</th><th class=\"tf\">word</th></tr>\n",
       "<tr class=\"tf\"><td class=\"tf\">1</td><td class=\"tf\"><span class=\"section ltr\">1 2:12</span></td><td class=\"tf\"><div class=\" children\"><span class=\"plain outer   hl\" ><span class=\"txtu grc\">ἐπὶ </span></span></div></td></tr>\n",
       "<tr class=\"tf\"><td class=\"tf\">2</td><td class=\"tf\"><span class=\"section ltr\">1 2:12</span></td><td class=\"tf\"><div class=\" children\"><span class=\"plain outer   hl\" ><span class=\"txtu grc\">ἐπὶ </span></span></div></td></tr>\n",
       "<tr class=\"tf\"><td class=\"tf\">3</td><td class=\"tf\"><span class=\"section ltr\">1 2:12</span></td><td class=\"tf\"><div class=\" children\"><span class=\"plain outer   hl\" ><span class=\"txtu grc\">ἐπὶ </span></span></div></td></tr>\n",
       "<tr class=\"tf\"><td class=\"tf\">4</td><td class=\"tf\"><span class=\"section ltr\">1 2:12</span></td><td class=\"tf\"><div class=\" children\"><span class=\"plain outer   hl\" ><span class=\"txtu grc\">ἐπὶ </span></span></div></td></tr>\n",
       "<tr class=\"tf\"><td class=\"tf\">5</td><td class=\"tf\"><span class=\"section ltr\">1 4:20</span></td><td class=\"tf\"><div class=\" children\"><span class=\"plain outer   hl\" ><span class=\"txtu grc\">ἐπὶ </span></span></div></td></tr>\n",
       "<tr class=\"tf\"><td class=\"tf\">6</td><td class=\"tf\"><span class=\"section ltr\">1 4:21</span></td><td class=\"tf\"><div class=\" children\"><span class=\"plain outer   hl\" ><span class=\"txtu grc\">ἐπ’  </span></span></div></td></tr>\n",
       "<tr class=\"tf\"><td class=\"tf\">7</td><td class=\"tf\"><span class=\"section ltr\">1 4:24</span></td><td class=\"tf\"><div class=\" children\"><span class=\"plain outer   hl\" ><span class=\"txtu grc\">ἐπὶ </span></span></div></td></tr>\n",
       "<tr class=\"tf\"><td class=\"tf\">8</td><td class=\"tf\"><span class=\"section ltr\">1 4:27</span></td><td class=\"tf\"><div class=\" children\"><span class=\"plain outer   hl\" ><span class=\"txtu grc\">ἐπὶ </span></span></div></td></tr>\n",
       "<tr class=\"tf\"><td class=\"tf\">9</td><td class=\"tf\"><span class=\"section ltr\">1 7:55</span></td><td class=\"tf\"><div class=\" children\"><span class=\"plain outer   hl\" ><span class=\"txtu grc\">ἐπὶ </span></span></div></td></tr>\n",
       "<tr class=\"tf\"><td class=\"tf\">10</td><td class=\"tf\"><span class=\"section ltr\">1 8:68</span></td><td class=\"tf\"><div class=\" children\"><span class=\"plain outer   hl\" ><span class=\"txtu grc\">ἐπὶ </span></span></div></td></tr></table>"
      ],
      "text/plain": [
       "<IPython.core.display.HTML object>"
      ]
     },
     "metadata": {},
     "output_type": "display_data"
    }
   ],
   "source": [
    "A.table(results, end=10)"
   ]
  },
  {
   "cell_type": "code",
   "execution_count": 10,
   "metadata": {},
   "outputs": [
    {
     "name": "stdout",
     "output_type": "stream",
     "text": [
      "  0.27s 2 results\n"
     ]
    },
    {
     "data": {
      "text/html": [
       "<p><b>result</b> <i>1</i></p>"
      ],
      "text/plain": [
       "<IPython.core.display.HTML object>"
      ]
     },
     "metadata": {},
     "output_type": "display_data"
    },
    {
     "data": {
      "text/html": [
       "<span class=\"section ltr\">1 2:13</span><div class=\" children\"><div class=\"contnr c3    \" ><div class=\"lbl c3  \" ><span class=\"nd\">_sentence</span></div><div class=\"children hor wrap \"><div class=\"contnr c0 trm   \" ><div class=\"lbl c0 trm \" ><span class=\"txtu grc\">ἰατρῶν </span></div><div class='features'><span class=\"lemma xft\" ><span class=\"f\">lemma=</span>ἰατρός</span></div></div><div class=\"contnr c0 trm   \" ><div class=\"lbl c0 trm \" ><span class=\"txtu grc\">δὲ </span></div><div class='features'><span class=\"lemma xft\" ><span class=\"f\">lemma=</span>δέ</span></div></div><div class=\"contnr c0 trm   \" ><div class=\"lbl c0 trm \" ><span class=\"txtu grc\">παρῆσαν </span></div><div class='features'><span class=\"lemma xft\" ><span class=\"f\">lemma=</span>πάρειμι,πάρειμι1,πείρω</span></div></div><div class=\"contnr c0 trm   \" ><div class=\"lbl c0 trm \" ><span class=\"txtu grc\">Δάφνος </span></div><div class='features'><span class=\"lemma xft\" ><span class=\"f\">lemma=</span>δάφνος</span></div></div><div class=\"contnr c0 trm   \" ><div class=\"lbl c0 trm \" ><span class=\"txtu grc\">Ἐφέσιος, </span></div><div class='features'><span class=\"lemma xft\" ><span class=\"f\">lemma=</span>ἔφεσις,ἐφέσιος</span></div></div><div class=\"contnr c0 trm   \" ><div class=\"lbl c0 trm \" ><span class=\"txtu grc\">ἱερὸς </span></div><div class='features'><span class=\"lemma xft\" ><span class=\"f\">lemma=</span>ἱερός</span></div></div><div class=\"contnr c0 trm   \" ><div class=\"lbl c0 trm \" ><span class=\"txtu grc\">τὴν </span></div><div class='features'><span class=\"lemma xft\" ><span class=\"f\">lemma=</span>ὅς,ὁ</span></div></div><div class=\"contnr c0 trm   \" ><div class=\"lbl c0 trm \" ><span class=\"txtu grc\">τέχνην </span></div><div class='features'><span class=\"lemma xft\" ><span class=\"f\">lemma=</span>τέχνη</span></div></div><div class=\"contnr c0 trm   \" ><div class=\"lbl c0 trm \" ><span class=\"txtu grc\">καὶ </span></div><div class='features'><span class=\"lemma xft\" ><span class=\"f\">lemma=</span>καί</span></div></div><div class=\"contnr c0 trm   \" ><div class=\"lbl c0 trm \" ><span class=\"txtu grc\">κατὰ </span></div><div class='features'><span class=\"lemma xft\" ><span class=\"f\">lemma=</span>κατά</span></div></div><div class=\"contnr c0 trm   \" ><div class=\"lbl c0 trm \" ><span class=\"txtu grc\">τὰ </span></div><div class='features'><span class=\"lemma xft\" ><span class=\"f\">lemma=</span>ὅς,ὁ,τίς</span></div></div><div class=\"contnr c0 trm   \" ><div class=\"lbl c0 trm \" ><span class=\"txtu grc\">ἤθη, </span></div><div class='features'><span class=\"lemma xft\" ><span class=\"f\">lemma=</span>ἠθέω,ἦθος</span></div></div><div class=\"contnr c0 trm   \" ><div class=\"lbl c0 trm \" ><span class=\"txtu grc\">τῶν </span></div><div class='features'><span class=\"lemma xft\" ><span class=\"f\">lemma=</span>ὅς,ὁ</span></div></div><div class=\"contnr c0 trm   hl\" ><div class=\"lbl c0 trm hl\" ><span class=\"txtu grc\">Ἀκαδημαικῶν </span></div><div class='features'><span class=\"lemma xft\" ><span class=\"f\">lemma=</span>*ακαδημαικων</span></div></div><div class=\"contnr c0 trm   \" ><div class=\"lbl c0 trm \" ><span class=\"txtu grc\">λόγων </span></div><div class='features'><span class=\"lemma xft\" ><span class=\"f\">lemma=</span>λόγος,λογάω</span></div></div><div class=\"contnr c0 trm   \" ><div class=\"lbl c0 trm \" ><span class=\"txtu grc\">οὐ </span></div><div class='features'><span class=\"lemma xft\" ><span class=\"f\">lemma=</span>οὐ</span></div></div><div class=\"contnr c0 trm   \" ><div class=\"lbl c0 trm \" ><span class=\"txtu grc\">παρέργως </span></div><div class='features'><span class=\"lemma xft\" ><span class=\"f\">lemma=</span>πάρεργος,πάρεργον</span></div></div><div class=\"contnr c0 trm   \" ><div class=\"lbl c0 trm \" ><span class=\"txtu grc\">ἁπτόμενος, </span></div><div class='features'><span class=\"lemma xft\" ><span class=\"f\">lemma=</span>ἅπτω</span></div></div><div class=\"contnr c0 trm   \" ><div class=\"lbl c0 trm \" ><span class=\"txtu grc\">Γαληνός </span></div><div class='features'><span class=\"lemma xft\" ><span class=\"f\">lemma=</span>γαληνός</span></div></div><div class=\"contnr c0 trm   \" ><div class=\"lbl c0 trm \" ><span class=\"txtu grc\">τε </span></div><div class='features'><span class=\"lemma xft\" ><span class=\"f\">lemma=</span>σύ,τις,τεός,τε</span></div></div><div class=\"contnr c0 trm   \" ><div class=\"lbl c0 trm \" ><span class=\"txtu grc\">ὁ </span></div><div class='features'><span class=\"lemma xft\" ><span class=\"f\">lemma=</span>ὅς,ὁ</span></div></div><div class=\"contnr c0 trm   \" ><div class=\"lbl c0 trm \" ><span class=\"txtu grc\">Περγαμηνός, </span></div><div class='features'><span class=\"lemma xft\" ><span class=\"f\">lemma=</span>περγαμηνός</span></div></div><div class=\"contnr c0 trm   \" ><div class=\"lbl c0 trm \" ><span class=\"txtu grc\">ὃς </span></div><div class='features'><span class=\"lemma xft\" ><span class=\"f\">lemma=</span>ὅς</span></div></div><div class=\"contnr c0 trm   \" ><div class=\"lbl c0 trm \" ><span class=\"txtu grc\">τοσαῦτ’  </span></div><div class='features'><span class=\"lemma xft\" ><span class=\"f\">lemma=</span>τοσοῦτος</span></div></div><div class=\"contnr c0 trm   \" ><div class=\"lbl c0 trm \" ><span class=\"txtu grc\">ἐκδέδωκε </span></div><div class='features'><span class=\"lemma xft\" ><span class=\"f\">lemma=</span>ἐκδίδωμι</span></div></div><div class=\"contnr c0 trm   \" ><div class=\"lbl c0 trm \" ><span class=\"txtu grc\">συγγράμματα </span></div><div class='features'><span class=\"lemma xft\" ><span class=\"f\">lemma=</span>σύγγραμμα</span></div></div><div class=\"contnr c0 trm   \" ><div class=\"lbl c0 trm \" ><span class=\"txtu grc\">φιλόσοφά </span></div><div class='features'><span class=\"lemma xft\" ><span class=\"f\">lemma=</span>*φιλοσοφα</span></div></div><div class=\"contnr c0 trm   \" ><div class=\"lbl c0 trm \" ><span class=\"txtu grc\">τε </span></div><div class='features'><span class=\"lemma xft\" ><span class=\"f\">lemma=</span>σύ,τις,τεός,τε</span></div></div><div class=\"contnr c0 trm   \" ><div class=\"lbl c0 trm \" ><span class=\"txtu grc\">καὶ </span></div><div class='features'><span class=\"lemma xft\" ><span class=\"f\">lemma=</span>καί</span></div></div><div class=\"contnr c0 trm   \" ><div class=\"lbl c0 trm \" ><span class=\"txtu grc\">ἰατρικὰ </span></div><div class='features'><span class=\"lemma xft\" ><span class=\"f\">lemma=</span>ἰατρικός</span></div></div><div class=\"contnr c0 trm   \" ><div class=\"lbl c0 trm \" ><span class=\"txtu grc\">ὡς </span></div><div class='features'><span class=\"lemma xft\" ><span class=\"f\">lemma=</span>ὅς,ὡς</span></div></div><div class=\"contnr c0 trm   \" ><div class=\"lbl c0 trm \" ><span class=\"txtu grc\">πάντας </span></div><div class='features'><span class=\"lemma xft\" ><span class=\"f\">lemma=</span>πᾶς</span></div></div><div class=\"contnr c0 trm   \" ><div class=\"lbl c0 trm \" ><span class=\"txtu grc\">ὑπερβαλεῖν </span></div><div class='features'><span class=\"lemma xft\" ><span class=\"f\">lemma=</span>ὑπερβάλλω</span></div></div><div class=\"contnr c0 trm   \" ><div class=\"lbl c0 trm \" ><span class=\"txtu grc\">τοὺς </span></div><div class='features'><span class=\"lemma xft\" ><span class=\"f\">lemma=</span>ὅς,ὁ</span></div></div><div class=\"contnr c0 trm   \" ><div class=\"lbl c0 trm \" ><span class=\"txtu grc\">πρὸ </span></div><div class='features'><span class=\"lemma xft\" ><span class=\"f\">lemma=</span>πρό</span></div></div><div class=\"contnr c0 trm   \" ><div class=\"lbl c0 trm \" ><span class=\"txtu grc\">αὐτοῦ, </span></div><div class='features'><span class=\"lemma xft\" ><span class=\"f\">lemma=</span>αὐτός,αὐτοῦ</span></div></div><div class=\"contnr c0 trm   \" ><div class=\"lbl c0 trm \" ><span class=\"txtu grc\">καὶ </span></div><div class='features'><span class=\"lemma xft\" ><span class=\"f\">lemma=</span>καί</span></div></div><div class=\"contnr c0 trm   \" ><div class=\"lbl c0 trm \" ><span class=\"txtu grc\">κατὰ </span></div><div class='features'><span class=\"lemma xft\" ><span class=\"f\">lemma=</span>κατά</span></div></div><div class=\"contnr c0 trm   \" ><div class=\"lbl c0 trm \" ><span class=\"txtu grc\">τὴν </span></div><div class='features'><span class=\"lemma xft\" ><span class=\"f\">lemma=</span>ὅς,ὁ</span></div></div><div class=\"contnr c0 trm   \" ><div class=\"lbl c0 trm \" ><span class=\"txtu grc\">ἑρμηνείαν </span></div><div class='features'><span class=\"lemma xft\" ><span class=\"f\">lemma=</span>ἑρμηνεία</span></div></div><div class=\"contnr c0 trm   \" ><div class=\"lbl c0 trm \" ><span class=\"txtu grc\">οὐδενὸς </span></div><div class='features'><span class=\"lemma xft\" ><span class=\"f\">lemma=</span>οὐδείς</span></div></div><div class=\"contnr c0 trm   \" ><div class=\"lbl c0 trm \" ><span class=\"txtu grc\">ὢν </span></div><div class='features'><span class=\"lemma xft\" ><span class=\"f\">lemma=</span>εἰμί</span></div></div><div class=\"contnr c0 trm   \" ><div class=\"lbl c0 trm \" ><span class=\"txtu grc\">τῶν </span></div><div class='features'><span class=\"lemma xft\" ><span class=\"f\">lemma=</span>ὅς,ὁ</span></div></div><div class=\"contnr c0 trm   \" ><div class=\"lbl c0 trm \" ><span class=\"txtu grc\">ἀρχαίων </span></div><div class='features'><span class=\"lemma xft\" ><span class=\"f\">lemma=</span>ἀρχαῖος</span></div></div><div class=\"contnr c0 trm   \" ><div class=\"lbl c0 trm \" ><span class=\"txtu grc\">ἀδυνατώτερος, </span></div><div class='features'><span class=\"lemma xft\" ><span class=\"f\">lemma=</span>ἀδύνατος</span></div></div><div class=\"contnr c0 trm   \" ><div class=\"lbl c0 trm \" ><span class=\"txtu grc\">Ῥουφῖνός </span></div><div class='features'><span class=\"lemma xft\" ><span class=\"f\">lemma=</span>*ρουφινος</span></div></div><div class=\"contnr c0 trm   \" ><div class=\"lbl c0 trm \" ><span class=\"txtu grc\">τε </span></div><div class='features'><span class=\"lemma xft\" ><span class=\"f\">lemma=</span>σύ,τις,τεός,τε</span></div></div><div class=\"contnr c0 trm   \" ><div class=\"lbl c0 trm \" ><span class=\"txtu grc\">ὁ </span></div><div class='features'><span class=\"lemma xft\" ><span class=\"f\">lemma=</span>ὅς,ὁ</span></div></div><div class=\"contnr c0 trm   \" ><div class=\"lbl c0 trm \" ><span class=\"txtu grc\">Νικαεύς. </span></div><div class='features'><span class=\"lemma xft\" ><span class=\"f\">lemma=</span>*νικαευς</span></div></div></div></div></div>"
      ],
      "text/plain": [
       "<IPython.core.display.HTML object>"
      ]
     },
     "metadata": {},
     "output_type": "display_data"
    },
    {
     "data": {
      "text/html": [
       "<p><b>result</b> <i>2</i></p>"
      ],
      "text/plain": [
       "<IPython.core.display.HTML object>"
      ]
     },
     "metadata": {},
     "output_type": "display_data"
    },
    {
     "data": {
      "text/html": [
       "<span class=\"section ltr\">11 119:11199</span><div class=\" children\"><div class=\"contnr c3    \" ><div class=\"lbl c3  \" ><span class=\"nd\">_sentence</span></div><div class=\"children hor wrap \"><div class=\"contnr c0 trm   \" ><div class=\"lbl c0 trm \" ><span class=\"txtu grc\">τοιοῦτοι </span></div><div class='features'><span class=\"lemma xft\" ><span class=\"f\">lemma=</span>τοιοῦτος</span></div></div><div class=\"contnr c0 trm   \" ><div class=\"lbl c0 trm \" ><span class=\"txtu grc\">δ’  </span></div><div class='features'><span class=\"lemma xft\" ><span class=\"f\">lemma=</span>δέ</span></div></div><div class=\"contnr c0 trm   \" ><div class=\"lbl c0 trm \" ><span class=\"txtu grc\">εἰσὶ </span></div><div class='features'><span class=\"lemma xft\" ><span class=\"f\">lemma=</span>εἰμί</span></div></div><div class=\"contnr c0 trm   \" ><div class=\"lbl c0 trm \" ><span class=\"txtu grc\">καὶ </span></div><div class='features'><span class=\"lemma xft\" ><span class=\"f\">lemma=</span>καί</span></div></div><div class=\"contnr c0 trm   \" ><div class=\"lbl c0 trm \" ><span class=\"txtu grc\">νῦν </span></div><div class='features'><span class=\"lemma xft\" ><span class=\"f\">lemma=</span>νῦν</span></div></div><div class=\"contnr c0 trm   \" ><div class=\"lbl c0 trm \" ><span class=\"txtu grc\">τῶν </span></div><div class='features'><span class=\"lemma xft\" ><span class=\"f\">lemma=</span>ὅς,ὁ</span></div></div><div class=\"contnr c0 trm   hl\" ><div class=\"lbl c0 trm hl\" ><span class=\"txtu grc\">Ἀκαδημαικῶν </span></div><div class='features'><span class=\"lemma xft\" ><span class=\"f\">lemma=</span>*ακαδημαικων</span></div></div><div class=\"contnr c0 trm   \" ><div class=\"lbl c0 trm \" ><span class=\"txtu grc\">τινες, </span></div><div class='features'><span class=\"lemma xft\" ><span class=\"f\">lemma=</span>τίνω,τίς,τις</span></div></div><div class=\"contnr c0 trm   \" ><div class=\"lbl c0 trm \" ><span class=\"txtu grc\">ἀνοσίως </span></div><div class='features'><span class=\"lemma xft\" ><span class=\"f\">lemma=</span>ἀνόσιος</span></div></div><div class=\"contnr c0 trm   \" ><div class=\"lbl c0 trm \" ><span class=\"txtu grc\">καὶ </span></div><div class='features'><span class=\"lemma xft\" ><span class=\"f\">lemma=</span>καί</span></div></div><div class=\"contnr c0 trm   \" ><div class=\"lbl c0 trm \" ><span class=\"txtu grc\">ἀδόξως </span></div><div class='features'><span class=\"lemma xft\" ><span class=\"f\">lemma=</span>ἄδοξος</span></div></div><div class=\"contnr c0 trm   \" ><div class=\"lbl c0 trm \" ><span class=\"txtu grc\">βιοῦντες. </span></div><div class='features'><span class=\"lemma xft\" ><span class=\"f\">lemma=</span>βιάω,βιόω</span></div></div></div></div></div>"
      ],
      "text/plain": [
       "<IPython.core.display.HTML object>"
      ]
     },
     "metadata": {},
     "output_type": "display_data"
    }
   ],
   "source": [
    "query = \"\"\"\n",
    "word lemma=*ακαδημαικων\n",
    "\"\"\"\n",
    "results = A.search(query)\n",
    "A.show(results, condenseType=\"_sentence\", end=5)"
   ]
  },
  {
   "cell_type": "markdown",
   "metadata": {},
   "source": [
    "---\n",
    "\n",
    "CC-BY Dirk Roorda"
   ]
  }
 ],
 "metadata": {
  "jupytext": {
   "encoding": "# -*- coding: utf-8 -*-"
  },
  "kernelspec": {
   "display_name": "Python 3",
   "language": "python",
   "name": "python3"
  },
  "language_info": {
   "codemirror_mode": {
    "name": "ipython",
    "version": 3
   },
   "file_extension": ".py",
   "mimetype": "text/x-python",
   "name": "python",
   "nbconvert_exporter": "python",
   "pygments_lexer": "ipython3",
   "version": "3.7.7"
  }
 },
 "nbformat": 4,
 "nbformat_minor": 4
}
